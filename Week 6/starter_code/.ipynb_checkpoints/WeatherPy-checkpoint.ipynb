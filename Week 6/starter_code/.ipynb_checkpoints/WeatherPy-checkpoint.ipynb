{
 "cells": [
  {
   "cell_type": "markdown",
   "metadata": {},
   "source": [
    "# WeatherPy\n",
    "----\n",
    "\n",
    "#### Note\n",
    "* Instructions have been included for each segment. You do not have to follow them exactly, but they are included to help you think through the steps."
   ]
  },
  {
   "cell_type": "code",
   "execution_count": 85,
   "metadata": {
    "scrolled": true
   },
   "outputs": [],
   "source": [
    "# Dependencies and Setup\n",
    "import matplotlib.pyplot as plt\n",
    "import pandas as pd\n",
    "import numpy as np\n",
    "import requests\n",
    "import time\n",
    "from scipy.stats import linregress\n",
    "from pprint import pprint\n",
    "# Import API key\n",
    "from api_keys import weather_api_key\n",
    "\n",
    "# Incorporated citipy to determine city based on latitude and longitude\n",
    "from citipy import citipy\n",
    "\n",
    "# Output File (CSV)\n",
    "output_data_file = \"../output_data/cities.csv\"\n",
    "\n",
    "# Range of latitudes and longitudes\n",
    "lat_range = (-90, 90)\n",
    "lng_range = (-180, 180)"
   ]
  },
  {
   "cell_type": "markdown",
   "metadata": {},
   "source": [
    "## Generate Cities List"
   ]
  },
  {
   "cell_type": "code",
   "execution_count": 45,
   "metadata": {},
   "outputs": [
    {
     "name": "stdout",
     "output_type": "stream",
     "text": [
      "579\n"
     ]
    }
   ],
   "source": [
    "# List for holding lat_lngs and cities\n",
    "lat_lngs = []\n",
    "cities = []\n",
    "# Create a set of random lat and lng combinations\n",
    "lats = np.random.uniform(low=-90.000, high=90.000, size=1500)\n",
    "lngs = np.random.uniform(low=-180.000, high=180.000, size=1500)\n",
    "lat_lngs = zip(lats, lngs)\n",
    "\n",
    "# Identify nearest city for each lat, lng combination\n",
    "for lat_lng in lat_lngs:\n",
    "    city = citipy.nearest_city(lat_lng[0], lat_lng[1]).city_name\n",
    "    \n",
    "    # If the city is unique, then add it to a our cities list\n",
    "    if city not in cities:\n",
    "        cities.append(city)\n",
    "# Print the city count to confirm sufficient count\n",
    "print(len(cities))"
   ]
  },
  {
   "cell_type": "markdown",
   "metadata": {},
   "source": [
    "### Perform API Calls\n",
    "* Perform a weather check on each city using a series of successive API calls.\n",
    "* Include a print log of each city as it'sbeing processed (with the city number and city name).\n"
   ]
  },
  {
   "cell_type": "code",
   "execution_count": 61,
   "metadata": {},
   "outputs": [
    {
     "name": "stdout",
     "output_type": "stream",
     "text": [
      "Processing the data for City #0: vardo\n",
      "Processing the data for City #1: constantine\n",
      "Processing the data for City #2: hermanus\n",
      "Processing the data for City #3: buraydah\n",
      "Error with City #4: umm durman\n",
      "Processing the data for City #5: jamestown\n",
      "Processing the data for City #6: ribeira grande\n",
      "Processing the data for City #7: provideniya\n",
      "Processing the data for City #8: bengkulu\n",
      "Error with City #9: illoqqortoormiut\n",
      "Processing the data for City #10: ushuaia\n",
      "Processing the data for City #11: vilhena\n",
      "Processing the data for City #12: yar-sale\n",
      "Processing the data for City #13: tiznit\n",
      "Processing the data for City #14: sola\n",
      "Processing the data for City #15: valleyview\n",
      "Processing the data for City #16: nikolskoye\n",
      "Error with City #17: mys shmidta\n",
      "Processing the data for City #18: georgetown\n",
      "Processing the data for City #19: mar del plata\n",
      "Processing the data for City #20: beaverlodge\n",
      "Processing the data for City #21: worland\n",
      "Processing the data for City #22: barrow\n",
      "Processing the data for City #23: tupelo\n",
      "Processing the data for City #24: cape town\n",
      "Processing the data for City #25: portland\n",
      "Processing the data for City #26: east london\n",
      "Error with City #27: vaitupu\n",
      "Processing the data for City #28: albany\n",
      "Processing the data for City #29: avarua\n",
      "Processing the data for City #30: campoverde\n",
      "Processing the data for City #31: lokosovo\n",
      "Processing the data for City #32: cestas\n",
      "Processing the data for City #33: tasiilaq\n",
      "Processing the data for City #34: souillac\n",
      "Processing the data for City #35: port hardy\n",
      "Processing the data for City #36: kapaa\n",
      "Processing the data for City #37: vila\n",
      "Processing the data for City #38: cockburn town\n",
      "Processing the data for City #39: puerto cabello\n",
      "Processing the data for City #40: qaanaaq\n",
      "Processing the data for City #41: butaritari\n",
      "Processing the data for City #42: kodiak\n",
      "Processing the data for City #43: sakakah\n",
      "Processing the data for City #44: saint-philippe\n",
      "Processing the data for City #45: ambad\n",
      "Error with City #46: belushya guba\n",
      "Processing the data for City #47: atuona\n",
      "Processing the data for City #48: busselton\n",
      "Processing the data for City #49: laurel\n",
      "Processing the data for City #50: hobart\n",
      "Processing the data for City #51: new norfolk\n",
      "Processing the data for City #52: rikitea\n",
      "Processing the data for City #53: soyo\n",
      "Processing the data for City #54: bethel\n",
      "Processing the data for City #55: berlevag\n",
      "Processing the data for City #56: staryy nadym\n",
      "Error with City #57: taolanaro\n",
      "Processing the data for City #58: punta arenas\n",
      "Processing the data for City #59: ardakan\n",
      "Processing the data for City #60: buchanan\n",
      "Error with City #61: rungata\n",
      "Processing the data for City #62: kardla\n",
      "Processing the data for City #63: igrim\n",
      "Error with City #64: artyk\n",
      "Processing the data for City #65: ugoofaaru\n",
      "Processing the data for City #66: gondar\n",
      "Processing the data for City #67: hualmay\n",
      "Processing the data for City #68: evensk\n",
      "Processing the data for City #69: phan thiet\n",
      "Processing the data for City #70: ponta do sol\n",
      "Processing the data for City #71: cabedelo\n",
      "Processing the data for City #72: saldanha\n",
      "Processing the data for City #73: cotonou\n",
      "Processing the data for City #74: sawtell\n",
      "Processing the data for City #75: hithadhoo\n",
      "Processing the data for City #76: vostok\n",
      "Processing the data for City #77: mataura\n",
      "Processing the data for City #78: puerto ayora\n",
      "Processing the data for City #79: vaini\n",
      "Processing the data for City #80: belmonte\n",
      "Processing the data for City #81: pimentel\n",
      "Processing the data for City #82: skibbereen\n",
      "Processing the data for City #83: chernyshevskiy\n",
      "Processing the data for City #84: cherskiy\n",
      "Processing the data for City #85: san vicente\n",
      "Processing the data for City #86: chuy\n",
      "Processing the data for City #87: chimbote\n",
      "Processing the data for City #88: khorinsk\n",
      "Error with City #89: palabuhanratu\n",
      "Processing the data for City #90: te anau\n",
      "Processing the data for City #91: san luis\n",
      "Processing the data for City #92: bluff\n",
      "Processing the data for City #93: bozdar\n",
      "Error with City #94: samusu\n",
      "Processing the data for City #95: bafoulabe\n",
      "Processing the data for City #96: sancti spiritus\n",
      "Processing the data for City #97: nantucket\n",
      "Processing the data for City #98: coswig\n",
      "Processing the data for City #99: auki\n",
      "Processing the data for City #100: saint-joseph\n",
      "Processing the data for City #101: carnarvon\n",
      "Processing the data for City #102: kidodi\n",
      "Processing the data for City #103: mahebourg\n",
      "Processing the data for City #104: naze\n",
      "Processing the data for City #105: narsaq\n",
      "Processing the data for City #106: ostrovnoy\n",
      "Processing the data for City #107: camargo\n",
      "Processing the data for City #108: rock sound\n",
      "Processing the data for City #109: kruisfontein\n",
      "Processing the data for City #110: thinadhoo\n",
      "Processing the data for City #111: abu kamal\n",
      "Processing the data for City #112: faanui\n",
      "Processing the data for City #113: esil\n",
      "Processing the data for City #114: mahibadhoo\n",
      "Processing the data for City #115: khatanga\n",
      "Processing the data for City #116: kathu\n",
      "Error with City #117: amderma\n",
      "Processing the data for City #118: lakes entrance\n",
      "Processing the data for City #119: port alfred\n",
      "Error with City #120: saleaula\n",
      "Processing the data for City #121: iqaluit\n",
      "Processing the data for City #122: zhigalovo\n",
      "Processing the data for City #123: pevek\n",
      "Processing the data for City #124: gat\n",
      "Processing the data for City #125: namibe\n",
      "Processing the data for City #126: hilo\n",
      "Processing the data for City #127: vagur\n",
      "Error with City #128: safwah\n",
      "Error with City #129: sentyabrskiy\n",
      "Processing the data for City #130: nome\n",
      "Processing the data for City #131: yining\n",
      "Processing the data for City #132: leningradskiy\n",
      "Processing the data for City #133: ondangwa\n",
      "Processing the data for City #134: morondava\n",
      "Processing the data for City #135: houlton\n",
      "Processing the data for City #136: apango\n",
      "Processing the data for City #137: sibolga\n",
      "Processing the data for City #138: maragogi\n",
      "Processing the data for City #139: marawi\n",
      "Processing the data for City #140: burgeo\n",
      "Processing the data for City #141: chalus\n",
      "Processing the data for City #142: vila velha\n",
      "Processing the data for City #143: tuktoyaktuk\n",
      "Processing the data for City #144: kaili\n",
      "Processing the data for City #145: knysna\n",
      "Error with City #146: warqla\n",
      "Processing the data for City #147: cidreira\n",
      "Error with City #148: solsvik\n",
      "Processing the data for City #149: turochak\n",
      "Processing the data for City #150: bambous virieux\n",
      "Processing the data for City #151: aklavik\n",
      "Processing the data for City #152: gamboula\n",
      "Processing the data for City #153: tiksi\n",
      "Processing the data for City #154: baghdad\n",
      "Processing the data for City #155: combita\n",
      "Processing the data for City #156: guerrero negro\n",
      "Processing the data for City #157: chokurdakh\n",
      "Processing the data for City #158: amazar\n",
      "Processing the data for City #159: ahipara\n",
      "Processing the data for City #160: yellowknife\n",
      "Processing the data for City #161: monrovia\n",
      "Processing the data for City #162: bredasdorp\n",
      "Processing the data for City #163: kavieng\n",
      "Processing the data for City #164: derzhavinsk\n",
      "Processing the data for City #165: batagay-alyta\n",
      "Processing the data for City #166: bodden town\n",
      "Processing the data for City #167: dikson\n",
      "Processing the data for City #168: donskoye\n",
      "Processing the data for City #169: lebu\n",
      "Processing the data for City #170: fortuna\n",
      "Processing the data for City #171: mosquera\n",
      "Processing the data for City #172: udachnyy\n",
      "Processing the data for City #173: safita\n",
      "Processing the data for City #174: cabo san lucas\n",
      "Processing the data for City #175: haines junction\n",
      "Processing the data for City #176: tirumullaivasal\n",
      "Processing the data for City #177: constitucion\n",
      "Processing the data for City #178: ladario\n",
      "Processing the data for City #179: cristalina\n",
      "Processing the data for City #180: adre\n",
      "Processing the data for City #181: avera\n",
      "Processing the data for City #182: melbu\n",
      "Processing the data for City #183: meulaboh\n",
      "Error with City #184: nizhneyansk\n",
      "Processing the data for City #185: khandyga\n",
      "Processing the data for City #186: tokur\n",
      "Processing the data for City #187: isangel\n",
      "Processing the data for City #188: eyl\n",
      "Processing the data for City #189: taoudenni\n",
      "Processing the data for City #190: upernavik\n",
      "Processing the data for City #191: gaomi\n",
      "Processing the data for City #192: abu samrah\n",
      "Processing the data for City #193: davidson\n"
     ]
    },
    {
     "name": "stdout",
     "output_type": "stream",
     "text": [
      "Processing the data for City #194: hasaki\n",
      "Processing the data for City #195: mehran\n",
      "Processing the data for City #196: tornio\n",
      "Processing the data for City #197: beringovskiy\n",
      "Processing the data for City #198: castro\n",
      "Processing the data for City #199: carutapera\n",
      "Error with City #200: kalomo\n",
      "Processing the data for City #201: soto la marina\n",
      "Processing the data for City #202: oktyabrskiy\n",
      "Processing the data for City #203: kloulklubed\n",
      "Processing the data for City #204: sisimiut\n",
      "Processing the data for City #205: mayumba\n",
      "Processing the data for City #206: sitka\n",
      "Processing the data for City #207: pisco\n",
      "Processing the data for City #208: katsuura\n",
      "Processing the data for City #209: khonsa\n",
      "Processing the data for City #210: porto novo\n",
      "Processing the data for City #211: lavrentiya\n",
      "Processing the data for City #212: sao jose da coroa grande\n",
      "Processing the data for City #213: gerash\n",
      "Processing the data for City #214: airai\n",
      "Processing the data for City #215: canico\n",
      "Error with City #216: felidhoo\n",
      "Processing the data for City #217: san patricio\n",
      "Processing the data for City #218: ratnagiri\n",
      "Processing the data for City #219: rorvik\n",
      "Processing the data for City #220: qaqortoq\n",
      "Processing the data for City #221: bonthe\n",
      "Processing the data for City #222: harnosand\n",
      "Processing the data for City #223: codrington\n",
      "Processing the data for City #224: broome\n",
      "Error with City #225: utiroa\n",
      "Processing the data for City #226: dawlatabad\n",
      "Processing the data for City #227: torbay\n",
      "Processing the data for City #228: esperance\n",
      "Processing the data for City #229: havelock\n",
      "Processing the data for City #230: basco\n",
      "Processing the data for City #231: doctor phillips\n",
      "Processing the data for City #232: lagoa\n",
      "Processing the data for City #233: arraial do cabo\n",
      "Processing the data for City #234: flinders\n",
      "Processing the data for City #235: nipawin\n",
      "Processing the data for City #236: santa rosa\n",
      "Processing the data for City #237: peniche\n",
      "Processing the data for City #238: kieta\n",
      "Processing the data for City #239: lazaro cardenas\n",
      "Processing the data for City #240: longyearbyen\n",
      "Processing the data for City #241: noumea\n",
      "Error with City #242: asayita\n",
      "Processing the data for City #243: gold coast\n",
      "Processing the data for City #244: kavaratti\n",
      "Error with City #245: wazzan\n",
      "Error with City #246: hunza\n",
      "Processing the data for City #247: quatre cocos\n",
      "Error with City #248: naftah\n",
      "Processing the data for City #249: skoghall\n",
      "Processing the data for City #250: poya\n",
      "Processing the data for City #251: svetlaya\n",
      "Processing the data for City #252: rach gia\n",
      "Processing the data for City #253: yulin\n",
      "Processing the data for City #254: teguise\n",
      "Processing the data for City #255: lianran\n",
      "Processing the data for City #256: kingston\n",
      "Processing the data for City #257: itoman\n",
      "Processing the data for City #258: beloha\n",
      "Processing the data for City #259: juneau\n",
      "Processing the data for City #260: pangoa\n",
      "Processing the data for City #261: nadym\n",
      "Error with City #262: scottsburgh\n",
      "Processing the data for City #263: talnakh\n",
      "Processing the data for City #264: myitkyina\n",
      "Processing the data for City #265: dudinka\n",
      "Processing the data for City #266: cortes\n",
      "Processing the data for City #267: quimper\n",
      "Processing the data for City #268: viedma\n",
      "Processing the data for City #269: tsybuliv\n",
      "Processing the data for City #270: klaksvik\n",
      "Processing the data for City #271: mufulira\n",
      "Processing the data for City #272: mount isa\n",
      "Processing the data for City #273: dabat\n",
      "Processing the data for City #274: zhigansk\n",
      "Processing the data for City #275: coquimbo\n",
      "Processing the data for City #276: sabya\n",
      "Processing the data for City #277: kempele\n",
      "Processing the data for City #278: capiibary\n",
      "Processing the data for City #279: touros\n",
      "Processing the data for City #280: kangaatsiaq\n",
      "Processing the data for City #281: luderitz\n",
      "Processing the data for City #282: vanimo\n",
      "Processing the data for City #283: vila franca do campo\n",
      "Processing the data for City #284: funadhoo\n",
      "Processing the data for City #285: lysyye gory\n",
      "Processing the data for City #286: kalas\n",
      "Processing the data for City #287: toora-khem\n",
      "Processing the data for City #288: magadan\n",
      "Processing the data for City #289: stjordalshalsen\n",
      "Processing the data for City #290: shitanjing\n",
      "Processing the data for City #291: ust-kuyga\n",
      "Processing the data for City #292: muros\n",
      "Processing the data for City #293: victoria\n",
      "Processing the data for City #294: port macquarie\n",
      "Processing the data for City #295: alofi\n",
      "Processing the data for City #296: caravelas\n",
      "Error with City #297: barentsburg\n",
      "Processing the data for City #298: herat\n",
      "Processing the data for City #299: plock\n",
      "Processing the data for City #300: krasnoselkup\n",
      "Processing the data for City #301: port shepstone\n",
      "Processing the data for City #302: kabanjahe\n",
      "Processing the data for City #303: maniitsoq\n",
      "Processing the data for City #304: yumen\n",
      "Processing the data for City #305: jalu\n",
      "Processing the data for City #306: agirish\n",
      "Processing the data for City #307: kysyl-syr\n",
      "Processing the data for City #308: doba\n",
      "Processing the data for City #309: port elizabeth\n",
      "Processing the data for City #310: sao filipe\n",
      "Error with City #311: kamenskoye\n",
      "Processing the data for City #312: awbari\n",
      "Processing the data for City #313: maramba\n",
      "Processing the data for City #314: tessalit\n",
      "Processing the data for City #315: kahului\n",
      "Processing the data for City #316: south venice\n",
      "Processing the data for City #317: nanortalik\n",
      "Processing the data for City #318: port lincoln\n",
      "Processing the data for City #319: great bend\n",
      "Processing the data for City #320: lofthus\n",
      "Processing the data for City #321: port hedland\n",
      "Processing the data for City #322: thompson\n",
      "Processing the data for City #323: puerto escondido\n",
      "Processing the data for City #324: hirado\n",
      "Processing the data for City #325: kaitangata\n",
      "Processing the data for City #326: linxia\n",
      "Error with City #327: grand river south east\n",
      "Processing the data for City #328: port-gentil\n",
      "Processing the data for City #329: saskylakh\n",
      "Processing the data for City #330: alto araguaia\n",
      "Processing the data for City #331: seoul\n",
      "Processing the data for City #332: palembang\n",
      "Processing the data for City #333: bud\n",
      "Processing the data for City #334: tuatapere\n",
      "Processing the data for City #335: aswan\n",
      "Processing the data for City #336: matay\n",
      "Processing the data for City #337: saint george\n",
      "Processing the data for City #338: buin\n",
      "Error with City #339: khonuu\n",
      "Processing the data for City #340: severo-kurilsk\n",
      "Processing the data for City #341: sukhumi\n",
      "Processing the data for City #342: anloga\n",
      "Processing the data for City #343: barra patuca\n",
      "Processing the data for City #344: mapimi\n",
      "Processing the data for City #345: hanyang\n",
      "Processing the data for City #346: imeni morozova\n",
      "Processing the data for City #347: kamaishi\n",
      "Processing the data for City #348: batemans bay\n",
      "Processing the data for City #349: hanmer springs\n",
      "Processing the data for City #350: irpa irpa\n",
      "Processing the data for City #351: gelibolu\n",
      "Processing the data for City #352: sechura\n",
      "Processing the data for City #353: margate\n",
      "Error with City #354: tumannyy\n",
      "Processing the data for City #355: togur\n",
      "Processing the data for City #356: tres arroyos\n",
      "Processing the data for City #357: ponta delgada\n",
      "Processing the data for City #358: roald\n",
      "Processing the data for City #359: nieuw nickerie\n",
      "Processing the data for City #360: san rafael\n",
      "Processing the data for City #361: ayame\n",
      "Processing the data for City #362: el alto\n",
      "Processing the data for City #363: lata\n",
      "Processing the data for City #364: magdagachi\n",
      "Processing the data for City #365: ola\n",
      "Error with City #366: tunduru\n",
      "Processing the data for City #367: marica\n",
      "Processing the data for City #368: mashhad\n",
      "Processing the data for City #369: peterhead\n",
      "Error with City #370: buariki\n",
      "Processing the data for City #371: pretoria\n",
      "Error with City #372: grand centre\n",
      "Processing the data for City #373: itarema\n",
      "Processing the data for City #374: noyon\n",
      "Error with City #375: mrirt\n",
      "Processing the data for City #376: punto fijo\n",
      "Processing the data for City #377: brigantine\n",
      "Processing the data for City #378: toro\n",
      "Processing the data for City #379: awjilah\n",
      "Processing the data for City #380: madang\n",
      "Processing the data for City #381: kuito\n",
      "Processing the data for City #382: olafsvik\n",
      "Processing the data for City #383: hirara\n"
     ]
    },
    {
     "name": "stdout",
     "output_type": "stream",
     "text": [
      "Processing the data for City #384: cayenne\n",
      "Processing the data for City #385: mehamn\n",
      "Processing the data for City #386: emba\n",
      "Error with City #387: attawapiskat\n",
      "Error with City #388: sumbawa\n",
      "Processing the data for City #389: moose factory\n",
      "Processing the data for City #390: kostomuksha\n",
      "Error with City #391: stamsund\n",
      "Processing the data for City #392: osmanabad\n",
      "Processing the data for City #393: biak\n",
      "Processing the data for City #394: dibulla\n",
      "Processing the data for City #395: aksarka\n",
      "Processing the data for City #396: dunedin\n",
      "Processing the data for City #397: salym\n",
      "Processing the data for City #398: faya\n",
      "Error with City #399: fevralsk\n",
      "Processing the data for City #400: kampot\n",
      "Processing the data for City #401: arani\n",
      "Processing the data for City #402: adrar\n",
      "Processing the data for City #403: ulaangom\n",
      "Processing the data for City #404: aras\n",
      "Error with City #405: saint combs\n",
      "Processing the data for City #406: pahrump\n",
      "Processing the data for City #407: turukhansk\n",
      "Processing the data for City #408: kampong cham\n",
      "Processing the data for City #409: catuday\n",
      "Processing the data for City #410: taksimo\n",
      "Processing the data for City #411: naryan-mar\n",
      "Error with City #412: satitoa\n",
      "Processing the data for City #413: salalah\n",
      "Processing the data for City #414: macusani\n",
      "Processing the data for City #415: saint-ambroise\n",
      "Processing the data for City #416: raudeberg\n",
      "Processing the data for City #417: athabasca\n",
      "Processing the data for City #418: buala\n",
      "Processing the data for City #419: kungurtug\n",
      "Processing the data for City #420: hambantota\n",
      "Processing the data for City #421: devils lake\n",
      "Processing the data for City #422: roma\n",
      "Processing the data for City #423: gladstone\n",
      "Processing the data for City #424: dombarovskiy\n",
      "Processing the data for City #425: pacific grove\n",
      "Processing the data for City #426: sinnamary\n",
      "Processing the data for City #427: pitimbu\n",
      "Error with City #428: bacuit\n",
      "Processing the data for City #429: sao joao da barra\n",
      "Processing the data for City #430: seymchan\n",
      "Processing the data for City #431: banjar\n",
      "Processing the data for City #432: kulhudhuffushi\n",
      "Processing the data for City #433: meadow lake\n",
      "Processing the data for City #434: talaban\n",
      "Processing the data for City #435: mayo\n",
      "Processing the data for City #436: belaya gora\n",
      "Processing the data for City #437: srednekolymsk\n",
      "Processing the data for City #438: xunchang\n",
      "Processing the data for City #439: solnechnyy\n",
      "Processing the data for City #440: luanda\n",
      "Processing the data for City #441: ilulissat\n",
      "Error with City #442: mocambique\n",
      "Processing the data for City #443: chateauroux\n",
      "Processing the data for City #444: kabompo\n",
      "Processing the data for City #445: mandiana\n",
      "Processing the data for City #446: port-cartier\n",
      "Processing the data for City #447: korla\n",
      "Processing the data for City #448: florianopolis\n",
      "Error with City #449: tabiauea\n",
      "Processing the data for City #450: vaasa\n",
      "Processing the data for City #451: pangai\n",
      "Processing the data for City #452: whitehorse\n",
      "Processing the data for City #453: abalak\n",
      "Processing the data for City #454: mirnyy\n",
      "Processing the data for City #455: omboue\n",
      "Processing the data for City #456: odweyne\n",
      "Processing the data for City #457: fomboni\n",
      "Processing the data for City #458: katangli\n",
      "Processing the data for City #459: coihaique\n",
      "Processing the data for City #460: muscat\n",
      "Processing the data for City #461: pingliang\n",
      "Error with City #462: uk\n",
      "Processing the data for City #463: tambopata\n",
      "Processing the data for City #464: oistins\n",
      "Processing the data for City #465: kem\n",
      "Processing the data for City #466: lithakia\n",
      "Processing the data for City #467: luang prabang\n",
      "Processing the data for City #468: norman wells\n",
      "Processing the data for City #469: panacan\n",
      "Processing the data for City #470: walvis bay\n",
      "Processing the data for City #471: sur\n",
      "Processing the data for City #472: saint-denis\n",
      "Processing the data for City #473: urumqi\n",
      "Processing the data for City #474: vikhorevka\n",
      "Processing the data for City #475: kununurra\n",
      "Processing the data for City #476: sovetskiy\n",
      "Processing the data for City #477: karratha\n",
      "Processing the data for City #478: presidencia roque saenz pena\n",
      "Processing the data for City #479: klyuchi\n",
      "Processing the data for City #480: biskamzha\n",
      "Processing the data for City #481: clyde river\n",
      "Processing the data for City #482: sri aman\n",
      "Processing the data for City #483: lalibela\n",
      "Processing the data for City #484: bijie\n",
      "Processing the data for City #485: hovd\n",
      "Processing the data for City #486: pointe michel\n",
      "Processing the data for City #487: rivadavia\n",
      "Processing the data for City #488: saint-pierre\n",
      "Processing the data for City #489: belgrade\n",
      "Processing the data for City #490: tinskoy\n",
      "Processing the data for City #491: dwarka\n",
      "Processing the data for City #492: amapa\n",
      "Processing the data for City #493: mahenge\n",
      "Processing the data for City #494: yarkovo\n",
      "Processing the data for City #495: mega\n",
      "Processing the data for City #496: los llanos de aridane\n",
      "Processing the data for City #497: manado\n",
      "Error with City #498: tasbuget\n",
      "Processing the data for City #499: coruripe\n",
      "Error with City #500: opobo\n",
      "Processing the data for City #501: madison\n",
      "Error with City #502: tsihombe\n",
      "Processing the data for City #503: yulara\n",
      "Processing the data for City #504: port blair\n",
      "Processing the data for City #505: neyshabur\n",
      "Processing the data for City #506: nirmal\n",
      "Processing the data for City #507: pouembout\n",
      "Processing the data for City #508: malindi\n",
      "Processing the data for City #509: catabola\n",
      "Processing the data for City #510: hay river\n",
      "Processing the data for City #511: saint-augustin\n",
      "Processing the data for City #512: melita\n",
      "Processing the data for City #513: cody\n",
      "Processing the data for City #514: barranca\n",
      "Processing the data for City #515: kamien pomorski\n",
      "Processing the data for City #516: dawei\n",
      "Processing the data for City #517: mount gambier\n",
      "Processing the data for City #518: kodinsk\n",
      "Processing the data for City #519: grindavik\n",
      "Processing the data for City #520: sioux lookout\n",
      "Processing the data for City #521: mutis\n",
      "Error with City #522: fort saint john\n",
      "Processing the data for City #523: brae\n",
      "Processing the data for City #524: agadez\n",
      "Processing the data for City #525: glendive\n",
      "Processing the data for City #526: mahon\n",
      "Processing the data for City #527: yuli\n",
      "Processing the data for City #528: madison heights\n",
      "Error with City #529: ningan\n",
      "Processing the data for City #530: bambanglipuro\n",
      "Processing the data for City #531: boa vista\n",
      "Processing the data for City #532: kinshasa\n",
      "Processing the data for City #533: kentau\n",
      "Error with City #534: karkaralinsk\n",
      "Processing the data for City #535: beidao\n",
      "Processing the data for City #536: broken hill\n",
      "Processing the data for City #537: henties bay\n",
      "Processing the data for City #538: lincoln\n",
      "Processing the data for City #539: acarau\n",
      "Error with City #540: skalistyy\n",
      "Error with City #541: meyungs\n",
      "Processing the data for City #542: kang\n",
      "Processing the data for City #543: bemidji\n",
      "Processing the data for City #544: abha\n",
      "Processing the data for City #545: kupang\n",
      "Processing the data for City #546: yatou\n",
      "Processing the data for City #547: chiredzi\n",
      "Error with City #548: sorvag\n",
      "Processing the data for City #549: ketchikan\n",
      "Processing the data for City #550: dubbo\n",
      "Processing the data for City #551: sokoni\n",
      "Processing the data for City #552: altamira\n",
      "Processing the data for City #553: progreso\n",
      "Processing the data for City #554: den helder\n",
      "Processing the data for City #555: geraldton\n",
      "Processing the data for City #556: wanaka\n",
      "Processing the data for City #557: aloleng\n",
      "Processing the data for City #558: san policarpo\n",
      "Processing the data for City #559: kamenka\n",
      "Processing the data for City #560: vestmannaeyjar\n",
      "Processing the data for City #561: kendari\n",
      "Processing the data for City #562: khorramabad\n",
      "Processing the data for City #563: muisne\n",
      "Processing the data for City #564: sobolevo\n",
      "Processing the data for City #565: stourbridge\n",
      "Processing the data for City #566: tatawin\n",
      "Processing the data for City #567: graham\n",
      "Processing the data for City #568: kenora\n",
      "Processing the data for City #569: babstovo\n",
      "Processing the data for City #570: killybegs\n",
      "Processing the data for City #571: lagdo\n",
      "Processing the data for City #572: tateyama\n",
      "Processing the data for City #573: rehoboth\n",
      "Processing the data for City #574: miri\n",
      "Processing the data for City #575: gibara\n",
      "Processing the data for City #576: sabang\n"
     ]
    },
    {
     "name": "stdout",
     "output_type": "stream",
     "text": [
      "Processing the data for City #577: baykit\n",
      "Processing the data for City #578: totskoye\n"
     ]
    }
   ],
   "source": [
    "citiesdf=pd.DataFrame(cities)\n",
    "citiesdf.rename(columns={0:\"City\"}, inplace=True)\n",
    "citiesdf[\"Lat\"]=\"\"\n",
    "citiesdf[\"Temperature (F)\"]=None\n",
    "citiesdf[\"Humidity (%)\"]=None\n",
    "citiesdf[\"Cloudiness (%)\"]=None\n",
    "citiesdf[\"Wind Speed (mph)\"]=None\n",
    "url=f\"http://api.openweathermap.org/data/2.5/weather?appid={weather_api_key}&units=imperial&q=\"\n",
    "\n",
    "for index, row in citiesdf.iterrows():\n",
    "    try:\n",
    "        response=requests.get(url+row[\"City\"]).json()\n",
    "        row[\"Lat\"]=response[\"coord\"][\"lat\"]\n",
    "        row[\"Temperature (F)\"]=response[\"main\"][\"temp\"]\n",
    "        row[\"Humidity (%)\"]=response[\"main\"][\"humidity\"]\n",
    "        row[\"Cloudiness (%)\"]=response[\"clouds\"][\"all\"]\n",
    "        row[\"Wind Speed (mph)\"]=response[\"wind\"][\"speed\"]\n",
    "        print(f\"Processing the data for City #{index}: {row['City']}\")\n",
    "    except(KeyError):\n",
    "        print(f\"Error with City #{index}: {row['City']}\")\n",
    "    "
   ]
  },
  {
   "cell_type": "markdown",
   "metadata": {},
   "source": [
    "### Convert Raw Data to DataFrame\n",
    "* Export the city data into a .csv.\n",
    "* Display the DataFrame"
   ]
  },
  {
   "cell_type": "code",
   "execution_count": 62,
   "metadata": {},
   "outputs": [],
   "source": [
    "citiesdfdropped=citiesdf.dropna()"
   ]
  },
  {
   "cell_type": "code",
   "execution_count": 86,
   "metadata": {},
   "outputs": [
    {
     "name": "stderr",
     "output_type": "stream",
     "text": [
      "C:\\Users\\shado\\Anaconda3\\lib\\site-packages\\ipykernel_launcher.py:1: SettingWithCopyWarning: \n",
      "A value is trying to be set on a copy of a slice from a DataFrame.\n",
      "Try using .loc[row_indexer,col_indexer] = value instead\n",
      "\n",
      "See the caveats in the documentation: http://pandas.pydata.org/pandas-docs/stable/user_guide/indexing.html#returning-a-view-versus-a-copy\n",
      "  \"\"\"Entry point for launching an IPython kernel.\n",
      "C:\\Users\\shado\\Anaconda3\\lib\\site-packages\\ipykernel_launcher.py:2: SettingWithCopyWarning: \n",
      "A value is trying to be set on a copy of a slice from a DataFrame.\n",
      "Try using .loc[row_indexer,col_indexer] = value instead\n",
      "\n",
      "See the caveats in the documentation: http://pandas.pydata.org/pandas-docs/stable/user_guide/indexing.html#returning-a-view-versus-a-copy\n",
      "  \n",
      "C:\\Users\\shado\\Anaconda3\\lib\\site-packages\\ipykernel_launcher.py:3: SettingWithCopyWarning: \n",
      "A value is trying to be set on a copy of a slice from a DataFrame.\n",
      "Try using .loc[row_indexer,col_indexer] = value instead\n",
      "\n",
      "See the caveats in the documentation: http://pandas.pydata.org/pandas-docs/stable/user_guide/indexing.html#returning-a-view-versus-a-copy\n",
      "  This is separate from the ipykernel package so we can avoid doing imports until\n",
      "C:\\Users\\shado\\Anaconda3\\lib\\site-packages\\ipykernel_launcher.py:4: SettingWithCopyWarning: \n",
      "A value is trying to be set on a copy of a slice from a DataFrame.\n",
      "Try using .loc[row_indexer,col_indexer] = value instead\n",
      "\n",
      "See the caveats in the documentation: http://pandas.pydata.org/pandas-docs/stable/user_guide/indexing.html#returning-a-view-versus-a-copy\n",
      "  after removing the cwd from sys.path.\n",
      "C:\\Users\\shado\\Anaconda3\\lib\\site-packages\\ipykernel_launcher.py:5: SettingWithCopyWarning: \n",
      "A value is trying to be set on a copy of a slice from a DataFrame.\n",
      "Try using .loc[row_indexer,col_indexer] = value instead\n",
      "\n",
      "See the caveats in the documentation: http://pandas.pydata.org/pandas-docs/stable/user_guide/indexing.html#returning-a-view-versus-a-copy\n",
      "  \"\"\"\n"
     ]
    }
   ],
   "source": [
    "citiesdfdropped[\"Lat\"]=citiesdfdropped[\"Lat\"].astype(\"float\")\n",
    "citiesdfdropped[\"Temperature (F)\"]=citiesdfdropped[\"Temperature (F)\"].astype(\"float\")\n",
    "citiesdfdropped[\"Humidity (%)\"]=citiesdfdropped[\"Humidity (%)\"].astype(\"float\")\n",
    "citiesdfdropped[\"Cloudiness (%)\"]=citiesdfdropped[\"Cloudiness (%)\"].astype(\"float\")\n",
    "citiesdfdropped[\"Wind Speed (mph)\"]=citiesdfdropped[\"Wind Speed (mph)\"].astype(\"float\")\n",
    "citiesdfdropped.to_csv(output_data_file)"
   ]
  },
  {
   "cell_type": "markdown",
   "metadata": {},
   "source": [
    "### Plotting the Data\n",
    "* Use proper labeling of the plots using plot titles (including date of analysis) and axes labels.\n",
    "* Save the plotted figures as .pngs."
   ]
  },
  {
   "cell_type": "markdown",
   "metadata": {},
   "source": [
    "#### Latitude vs. Temperature Plot"
   ]
  },
  {
   "cell_type": "code",
   "execution_count": 78,
   "metadata": {
    "scrolled": true
   },
   "outputs": [
    {
     "data": {
      "text/plain": [
       "<matplotlib.axes._subplots.AxesSubplot at 0x294baa18c48>"
      ]
     },
     "execution_count": 78,
     "metadata": {},
     "output_type": "execute_result"
    },
    {
     "data": {
      "image/png": "[encoded data removed]",
      "text/plain": [
       "<Figure size 432x288 with 1 Axes>"
      ]
     },
     "metadata": {
      "needs_background": "light"
     },
     "output_type": "display_data"
    }
   ],
   "source": [
    "citiesdfdropped.plot.scatter(\"Lat\",\"Temperature (F)\")"
   ]
  },
  {
   "cell_type": "markdown",
   "metadata": {},
   "source": [
    "#### Latitude vs. Humidity Plot"
   ]
  },
  {
   "cell_type": "code",
   "execution_count": 80,
   "metadata": {},
   "outputs": [
    {
     "data": {
      "text/plain": [
       "<matplotlib.axes._subplots.AxesSubplot at 0x294badd5d48>"
      ]
     },
     "execution_count": 80,
     "metadata": {},
     "output_type": "execute_result"
    },
    {
     "data": {
      "image/png": "[encoded data removed]",
      "text/plain": [
       "<Figure size 432x288 with 1 Axes>"
      ]
     },
     "metadata": {
      "needs_background": "light"
     },
     "output_type": "display_data"
    }
   ],
   "source": [
    "citiesdfdropped.plot.scatter(\"Lat\",\"Humidity (%)\")"
   ]
  },
  {
   "cell_type": "markdown",
   "metadata": {},
   "source": [
    "#### Latitude vs. Cloudiness Plot"
   ]
  },
  {
   "cell_type": "code",
   "execution_count": 81,
   "metadata": {},
   "outputs": [
    {
     "data": {
      "text/plain": [
       "<matplotlib.axes._subplots.AxesSubplot at 0x294bae60788>"
      ]
     },
     "execution_count": 81,
     "metadata": {},
     "output_type": "execute_result"
    },
    {
     "data": {
      "image/png": "[encoded data removed]",
      "text/plain": [
       "<Figure size 432x288 with 1 Axes>"
      ]
     },
     "metadata": {
      "needs_background": "light"
     },
     "output_type": "display_data"
    }
   ],
   "source": [
    "citiesdfdropped.plot.scatter(\"Lat\",\"Cloudiness (%)\")"
   ]
  },
  {
   "cell_type": "markdown",
   "metadata": {},
   "source": [
    "#### Latitude vs. Wind Speed Plot"
   ]
  },
  {
   "cell_type": "code",
   "execution_count": 82,
   "metadata": {},
   "outputs": [
    {
     "data": {
      "text/plain": [
       "<matplotlib.axes._subplots.AxesSubplot at 0x294baeca848>"
      ]
     },
     "execution_count": 82,
     "metadata": {},
     "output_type": "execute_result"
    },
    {
     "data": {
      "image/png": "[encoded data removed]",
      "text/plain": [
       "<Figure size 432x288 with 1 Axes>"
      ]
     },
     "metadata": {
      "needs_background": "light"
     },
     "output_type": "display_data"
    }
   ],
   "source": [
    "citiesdfdropped.plot.scatter(\"Lat\",\"Wind Speed (mph)\")"
   ]
  },
  {
   "cell_type": "markdown",
   "metadata": {},
   "source": [
    "## Linear Regression"
   ]
  },
  {
   "cell_type": "code",
   "execution_count": null,
   "metadata": {},
   "outputs": [],
   "source": [
    "# OPTIONAL: Create a function to create Linear Regression plots\n"
   ]
  },
  {
   "cell_type": "code",
   "execution_count": null,
   "metadata": {},
   "outputs": [],
   "source": [
    "# Create Northern and Southern Hemisphere DataFrames\n"
   ]
  },
  {
   "cell_type": "markdown",
   "metadata": {},
   "source": [
    "####  Northern Hemisphere - Max Temp vs. Latitude Linear Regression"
   ]
  },
  {
   "cell_type": "code",
   "execution_count": null,
   "metadata": {},
   "outputs": [],
   "source": []
  },
  {
   "cell_type": "markdown",
   "metadata": {},
   "source": [
    "####  Southern Hemisphere - Max Temp vs. Latitude Linear Regression"
   ]
  },
  {
   "cell_type": "code",
   "execution_count": null,
   "metadata": {},
   "outputs": [],
   "source": []
  },
  {
   "cell_type": "markdown",
   "metadata": {},
   "source": [
    "####  Northern Hemisphere - Humidity (%) vs. Latitude Linear Regression"
   ]
  },
  {
   "cell_type": "code",
   "execution_count": null,
   "metadata": {},
   "outputs": [],
   "source": []
  },
  {
   "cell_type": "markdown",
   "metadata": {},
   "source": [
    "####  Southern Hemisphere - Humidity (%) vs. Latitude Linear Regression"
   ]
  },
  {
   "cell_type": "code",
   "execution_count": null,
   "metadata": {},
   "outputs": [],
   "source": []
  },
  {
   "cell_type": "markdown",
   "metadata": {},
   "source": [
    "####  Northern Hemisphere - Cloudiness (%) vs. Latitude Linear Regression"
   ]
  },
  {
   "cell_type": "code",
   "execution_count": null,
   "metadata": {},
   "outputs": [],
   "source": []
  },
  {
   "cell_type": "markdown",
   "metadata": {},
   "source": [
    "####  Southern Hemisphere - Cloudiness (%) vs. Latitude Linear Regression"
   ]
  },
  {
   "cell_type": "code",
   "execution_count": null,
   "metadata": {},
   "outputs": [],
   "source": []
  },
  {
   "cell_type": "markdown",
   "metadata": {},
   "source": [
    "####  Northern Hemisphere - Wind Speed (mph) vs. Latitude Linear Regression"
   ]
  },
  {
   "cell_type": "code",
   "execution_count": null,
   "metadata": {},
   "outputs": [],
   "source": []
  },
  {
   "cell_type": "markdown",
   "metadata": {},
   "source": [
    "####  Southern Hemisphere - Wind Speed (mph) vs. Latitude Linear Regression"
   ]
  },
  {
   "cell_type": "code",
   "execution_count": null,
   "metadata": {},
   "outputs": [],
   "source": []
  },
  {
   "cell_type": "code",
   "execution_count": null,
   "metadata": {},
   "outputs": [],
   "source": []
  }
 ],
 "metadata": {
  "anaconda-cloud": {},
  "kernel_info": {
   "name": "python3"
  },
  "kernelspec": {
   "display_name": "Python 3",
   "language": "python",
   "name": "python3"
  },
  "language_info": {
   "codemirror_mode": {
    "name": "ipython",
    "version": 3
   },
   "file_extension": ".py",
   "mimetype": "text/x-python",
   "name": "python",
   "nbconvert_exporter": "python",
   "pygments_lexer": "ipython3",
   "version": "3.7.4"
  },
  "latex_envs": {
   "LaTeX_envs_menu_present": true,
   "autoclose": false,
   "autocomplete": true,
   "bibliofile": "biblio.bib",
   "cite_by": "apalike",
   "current_citInitial": 1,
   "eqLabelWithNumbers": true,
   "eqNumInitial": 1,
   "hotkeys": {
    "equation": "Ctrl-E",
    "itemize": "Ctrl-I"
   },
   "labels_anchors": false,
   "latex_user_defs": false,
   "report_style_numbering": false,
   "user_envs_cfg": false
  },
  "nteract": {
   "version": "0.12.3"
  }
 },
 "nbformat": 4,
 "nbformat_minor": 2
}
