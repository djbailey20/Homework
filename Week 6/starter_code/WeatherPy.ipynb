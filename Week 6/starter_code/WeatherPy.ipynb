{
 "cells": [
  {
   "cell_type": "markdown",
   "metadata": {},
   "source": [
    "# WeatherPy\n",
    "----\n",
    "\n",
    "#### Note\n",
    "* Instructions have been included for each segment. You do not have to follow them exactly, but they are included to help you think through the steps."
   ]
  },
  {
   "cell_type": "code",
   "execution_count": 121,
   "metadata": {
    "scrolled": true
   },
   "outputs": [],
   "source": [
    "# Dependencies and Setup\n",
    "import matplotlib.pyplot as plt\n",
    "import pandas as pd\n",
    "import numpy as np\n",
    "import requests\n",
    "import time\n",
    "from scipy.stats import linregress\n",
    "from pprint import pprint\n",
    "# Import API key\n",
    "from api_keys import weather_api_key\n",
    "\n",
    "# Incorporated citipy to determine city based on latitude and longitude\n",
    "from citipy import citipy\n",
    "\n",
    "# Output File (CSV)\n",
    "output_data_file = \"../output_data/cities.csv\"\n",
    "\n",
    "# Range of latitudes and longitudes\n",
    "lat_range = (-90, 90)\n",
    "lng_range = (-180, 180)"
   ]
  },
  {
   "cell_type": "markdown",
   "metadata": {},
   "source": [
    "## Generate Cities List"
   ]
  },
  {
   "cell_type": "code",
   "execution_count": 122,
   "metadata": {},
   "outputs": [
    {
     "name": "stdout",
     "output_type": "stream",
     "text": [
      "612\n"
     ]
    }
   ],
   "source": [
    "# List for holding lat_lngs and cities\n",
    "lat_lngs = []\n",
    "cities = []\n",
    "# Create a set of random lat and lng combinations\n",
    "lats = np.random.uniform(low=-90.000, high=90.000, size=1500)\n",
    "lngs = np.random.uniform(low=-180.000, high=180.000, size=1500)\n",
    "lat_lngs = zip(lats, lngs)\n",
    "\n",
    "# Identify nearest city for each lat, lng combination\n",
    "for lat_lng in lat_lngs:\n",
    "    city = citipy.nearest_city(lat_lng[0], lat_lng[1]).city_name\n",
    "    \n",
    "    # If the city is unique, then add it to a our cities list\n",
    "    if city not in cities:\n",
    "        cities.append(city)\n",
    "# Print the city count to confirm sufficient count\n",
    "print(len(cities))"
   ]
  },
  {
   "cell_type": "markdown",
   "metadata": {},
   "source": [
    "### Perform API Calls\n",
    "* Perform a weather check on each city using a series of successive API calls.\n",
    "* Include a print log of each city as it'sbeing processed (with the city number and city name).\n"
   ]
  },
  {
   "cell_type": "code",
   "execution_count": 124,
   "metadata": {},
   "outputs": [
    {
     "name": "stdout",
     "output_type": "stream",
     "text": [
      "Processing the data for City #0: yulara\n",
      "Processing the data for City #1: praia da vitoria\n",
      "Processing the data for City #2: meulaboh\n",
      "Processing the data for City #3: mawlaik\n",
      "Error with City #4: kadykchan\n",
      "Processing the data for City #5: yarada\n",
      "Processing the data for City #6: livermore\n",
      "Processing the data for City #7: faanui\n",
      "Processing the data for City #8: nikolskoye\n",
      "Processing the data for City #9: kriel\n",
      "Processing the data for City #10: georgetown\n",
      "Processing the data for City #11: gamba\n",
      "Processing the data for City #12: mataura\n",
      "Processing the data for City #13: nhulunbuy\n",
      "Processing the data for City #14: angoche\n",
      "Error with City #15: palabuhanratu\n",
      "Processing the data for City #16: albany\n",
      "Processing the data for City #17: great yarmouth\n",
      "Processing the data for City #18: punta arenas\n",
      "Processing the data for City #19: vaini\n",
      "Processing the data for City #20: hay river\n",
      "Processing the data for City #21: jamestown\n",
      "Processing the data for City #22: pevek\n",
      "Processing the data for City #23: kodiak\n",
      "Processing the data for City #24: vila velha\n",
      "Processing the data for City #25: kamaishi\n",
      "Error with City #26: saleaula\n",
      "Processing the data for City #27: kalianget\n",
      "Processing the data for City #28: booue\n",
      "Processing the data for City #29: victoria\n",
      "Processing the data for City #30: butaritari\n",
      "Processing the data for City #31: hithadhoo\n",
      "Processing the data for City #32: ponta do sol\n",
      "Processing the data for City #33: auki\n",
      "Processing the data for City #34: mar del plata\n",
      "Error with City #35: amderma\n",
      "Processing the data for City #36: pangnirtung\n",
      "Processing the data for City #37: tuktoyaktuk\n",
      "Processing the data for City #38: eydhafushi\n",
      "Processing the data for City #39: qaanaaq\n",
      "Processing the data for City #40: rikitea\n",
      "Processing the data for City #41: airai\n",
      "Processing the data for City #42: college\n",
      "Processing the data for City #43: hermanus\n",
      "Processing the data for City #44: nemuro\n",
      "Error with City #45: nizhneyansk\n",
      "Processing the data for City #46: canberra\n",
      "Processing the data for City #47: ayagoz\n",
      "Processing the data for City #48: gizo\n",
      "Processing the data for City #49: barrow\n",
      "Error with City #50: taolanaro\n",
      "Processing the data for City #51: saint anthony\n",
      "Processing the data for City #52: bambanglipuro\n",
      "Processing the data for City #53: hobart\n",
      "Processing the data for City #54: beringovskiy\n",
      "Processing the data for City #55: cidreira\n",
      "Processing the data for City #56: oussouye\n",
      "Processing the data for City #57: champerico\n",
      "Processing the data for City #58: kapaa\n",
      "Processing the data for City #59: mandalay\n",
      "Processing the data for City #60: cherskiy\n",
      "Processing the data for City #61: quelimane\n",
      "Processing the data for City #62: buchanan\n",
      "Processing the data for City #63: atuona\n",
      "Processing the data for City #64: bathsheba\n",
      "Processing the data for City #65: severo-yeniseyskiy\n",
      "Processing the data for City #66: codrington\n",
      "Processing the data for City #67: norman wells\n",
      "Processing the data for City #68: ushuaia\n",
      "Processing the data for City #69: chunskiy\n",
      "Processing the data for City #70: port alfred\n",
      "Error with City #71: warqla\n",
      "Error with City #72: deh rawud\n",
      "Processing the data for City #73: bandarbeyla\n",
      "Processing the data for City #74: kiruna\n",
      "Error with City #75: sentyabrskiy\n",
      "Processing the data for City #76: la massana\n",
      "Processing the data for City #77: sindou\n",
      "Processing the data for City #78: panguna\n",
      "Processing the data for City #79: bauchi\n",
      "Processing the data for City #80: hilo\n",
      "Processing the data for City #81: barinas\n",
      "Processing the data for City #82: la libertad\n",
      "Processing the data for City #83: muisne\n",
      "Processing the data for City #84: naze\n",
      "Processing the data for City #85: new norfolk\n",
      "Processing the data for City #86: sal rei\n",
      "Processing the data for City #87: arraial do cabo\n",
      "Processing the data for City #88: ahipara\n",
      "Processing the data for City #89: san carlos de bariloche\n",
      "Processing the data for City #90: hasaki\n",
      "Error with City #91: illoqqortoormiut\n",
      "Processing the data for City #92: viransehir\n",
      "Processing the data for City #93: taoudenni\n",
      "Processing the data for City #94: puerto ayora\n",
      "Processing the data for City #95: bluff\n",
      "Processing the data for City #96: salalah\n",
      "Processing the data for City #97: longyearbyen\n",
      "Processing the data for City #98: khatanga\n",
      "Error with City #99: mys shmidta\n",
      "Processing the data for City #100: sovetskiy\n",
      "Processing the data for City #101: kismayo\n",
      "Error with City #102: barentsburg\n",
      "Processing the data for City #103: tuatapere\n",
      "Processing the data for City #104: ostrovnoy\n",
      "Processing the data for City #105: grindavik\n",
      "Processing the data for City #106: pierreville\n",
      "Processing the data for City #107: darhan\n",
      "Processing the data for City #108: barsi\n",
      "Processing the data for City #109: thompson\n",
      "Processing the data for City #110: saldanha\n",
      "Processing the data for City #111: rock springs\n",
      "Processing the data for City #112: busselton\n",
      "Processing the data for City #113: makakilo city\n",
      "Processing the data for City #114: araouane\n",
      "Processing the data for City #115: bud\n",
      "Processing the data for City #116: castro\n",
      "Processing the data for City #117: atar\n",
      "Processing the data for City #118: chuy\n",
      "Processing the data for City #119: donskoye\n",
      "Processing the data for City #120: kantang\n",
      "Processing the data for City #121: maldonado\n",
      "Processing the data for City #122: talnakh\n",
      "Processing the data for City #123: dikson\n",
      "Processing the data for City #124: ornskoldsvik\n",
      "Processing the data for City #125: manyana\n",
      "Processing the data for City #126: marshfield\n",
      "Processing the data for City #127: roebourne\n",
      "Processing the data for City #128: los llanos de aridane\n",
      "Processing the data for City #129: carnarvon\n",
      "Processing the data for City #130: bredasdorp\n",
      "Processing the data for City #131: dongsheng\n",
      "Processing the data for City #132: vestmanna\n",
      "Processing the data for City #133: ketchikan\n",
      "Processing the data for City #134: ixtapa\n",
      "Processing the data for City #135: kahului\n",
      "Processing the data for City #136: koumac\n",
      "Processing the data for City #137: kuruman\n",
      "Processing the data for City #138: santo amaro\n",
      "Processing the data for City #139: bubaque\n",
      "Processing the data for City #140: ayorou\n",
      "Processing the data for City #141: ilhabela\n",
      "Error with City #142: grand river south east\n",
      "Processing the data for City #143: lipari\n",
      "Processing the data for City #144: chumikan\n",
      "Processing the data for City #145: pekan\n",
      "Processing the data for City #146: cabo san lucas\n",
      "Processing the data for City #147: haines junction\n",
      "Processing the data for City #148: oistins\n",
      "Processing the data for City #149: saint george\n",
      "Processing the data for City #150: panzhihua\n",
      "Processing the data for City #151: ossora\n",
      "Processing the data for City #152: birjand\n",
      "Processing the data for City #153: saskylakh\n",
      "Error with City #154: longlac\n",
      "Processing the data for City #155: acapulco\n",
      "Error with City #156: pavda\n",
      "Processing the data for City #157: olafsvik\n",
      "Processing the data for City #158: derzhavinsk\n",
      "Processing the data for City #159: chara\n",
      "Processing the data for City #160: torbay\n",
      "Processing the data for City #161: tasiilaq\n",
      "Processing the data for City #162: zhigansk\n",
      "Processing the data for City #163: valdivia\n",
      "Processing the data for City #164: maxixe\n",
      "Processing the data for City #165: mahebourg\n",
      "Error with City #166: bolungarvik\n",
      "Processing the data for City #167: nome\n",
      "Processing the data for City #168: tigre\n",
      "Processing the data for City #169: yellowknife\n",
      "Processing the data for City #170: juterbog\n",
      "Processing the data for City #171: mecca\n",
      "Processing the data for City #172: bethel\n",
      "Processing the data for City #173: harindanga\n",
      "Processing the data for City #174: sungaipenuh\n",
      "Processing the data for City #175: marsh harbour\n",
      "Processing the data for City #176: kaitangata\n",
      "Processing the data for City #177: hamburg\n",
      "Processing the data for City #178: namibe\n",
      "Processing the data for City #179: bronnoysund\n",
      "Processing the data for City #180: lebu\n",
      "Processing the data for City #181: yeppoon\n",
      "Processing the data for City #182: tiksi\n",
      "Processing the data for City #183: agirish\n",
      "Processing the data for City #184: dalvik\n",
      "Processing the data for City #185: cape town\n",
      "Processing the data for City #186: kapustin yar\n",
      "Processing the data for City #187: chokurdakh\n",
      "Processing the data for City #188: alofi\n",
      "Processing the data for City #189: valley falls\n",
      "Processing the data for City #190: pathein\n",
      "Error with City #191: hvammstangi\n",
      "Error with City #192: artyk\n",
      "Error with City #193: mirina\n"
     ]
    },
    {
     "name": "stdout",
     "output_type": "stream",
     "text": [
      "Processing the data for City #194: la ronge\n",
      "Processing the data for City #195: fiditi\n",
      "Processing the data for City #196: narbonne\n",
      "Processing the data for City #197: mezen\n",
      "Error with City #198: belushya guba\n",
      "Error with City #199: toliary\n",
      "Processing the data for City #200: thunder bay\n",
      "Processing the data for City #201: iqaluit\n",
      "Processing the data for City #202: portel\n",
      "Processing the data for City #203: lorengau\n",
      "Error with City #204: vaitupu\n",
      "Processing the data for City #205: nambucca heads\n",
      "Processing the data for City #206: nizwa\n",
      "Error with City #207: armacao dos buzios\n",
      "Processing the data for City #208: provideniya\n",
      "Processing the data for City #209: murrhardt\n",
      "Error with City #210: attawapiskat\n",
      "Processing the data for City #211: garissa\n",
      "Processing the data for City #212: ratnagiri\n",
      "Processing the data for City #213: avarua\n",
      "Processing the data for City #214: reconquista\n",
      "Processing the data for City #215: pacific grove\n",
      "Processing the data for City #216: bahia blanca\n",
      "Processing the data for City #217: shelburne\n",
      "Error with City #218: samusu\n",
      "Error with City #219: marcona\n",
      "Processing the data for City #220: east london\n",
      "Error with City #221: abu jubayhah\n",
      "Processing the data for City #222: visby\n",
      "Processing the data for City #223: eureka\n",
      "Processing the data for City #224: adrar\n",
      "Processing the data for City #225: emerald\n",
      "Processing the data for City #226: katsuura\n",
      "Processing the data for City #227: saint-philippe\n",
      "Processing the data for City #228: huarmey\n",
      "Processing the data for City #229: clyde river\n",
      "Processing the data for City #230: moerai\n",
      "Processing the data for City #231: sao joao da barra\n",
      "Processing the data for City #232: doha\n",
      "Processing the data for City #233: nkwerre\n",
      "Processing the data for City #234: pisco\n",
      "Error with City #235: doctor pedro p. pena\n",
      "Processing the data for City #236: storforshei\n",
      "Processing the data for City #237: margate\n",
      "Processing the data for City #238: bambous virieux\n",
      "Processing the data for City #239: gazli\n",
      "Processing the data for City #240: tromso\n",
      "Processing the data for City #241: arman\n",
      "Processing the data for City #242: port lincoln\n",
      "Processing the data for City #243: vila franca do campo\n",
      "Processing the data for City #244: loei\n",
      "Processing the data for City #245: corner brook\n",
      "Processing the data for City #246: manakara\n",
      "Processing the data for City #247: half moon bay\n",
      "Processing the data for City #248: itarema\n",
      "Processing the data for City #249: flinders\n",
      "Processing the data for City #250: boende\n",
      "Processing the data for City #251: la ciotat\n",
      "Processing the data for City #252: lubango\n",
      "Processing the data for City #253: ilulissat\n",
      "Processing the data for City #254: san juan\n",
      "Processing the data for City #255: lubao\n",
      "Processing the data for City #256: husavik\n",
      "Processing the data for City #257: todos santos\n",
      "Processing the data for City #258: ola\n",
      "Error with City #259: ambodifototra\n",
      "Processing the data for City #260: san patricio\n",
      "Processing the data for City #261: ambilobe\n",
      "Processing the data for City #262: vao\n",
      "Processing the data for City #263: stillwater\n",
      "Processing the data for City #264: klaksvik\n",
      "Processing the data for City #265: ibra\n",
      "Processing the data for City #266: talara\n",
      "Processing the data for City #267: padang\n",
      "Processing the data for City #268: aklavik\n",
      "Processing the data for City #269: osmanabad\n",
      "Processing the data for City #270: sao filipe\n",
      "Processing the data for City #271: mathbaria\n",
      "Processing the data for City #272: saint-augustin\n",
      "Processing the data for City #273: timra\n",
      "Processing the data for City #274: yinchuan\n",
      "Processing the data for City #275: anadyr\n",
      "Processing the data for City #276: ancud\n",
      "Processing the data for City #277: kisanga\n",
      "Processing the data for City #278: waipawa\n",
      "Processing the data for City #279: guerrero negro\n",
      "Processing the data for City #280: placido de castro\n",
      "Processing the data for City #281: nanortalik\n",
      "Processing the data for City #282: abnub\n",
      "Processing the data for City #283: povenets\n",
      "Processing the data for City #284: whitehorse\n",
      "Error with City #285: tsihombe\n",
      "Processing the data for City #286: vagur\n",
      "Processing the data for City #287: riosucio\n",
      "Processing the data for City #288: vardo\n",
      "Processing the data for City #289: kytmanovo\n",
      "Processing the data for City #290: sorong\n",
      "Processing the data for City #291: zemetchino\n",
      "Processing the data for City #292: ribeira grande\n",
      "Error with City #293: dera din panah\n",
      "Processing the data for City #294: port elizabeth\n",
      "Processing the data for City #295: coquimbo\n",
      "Processing the data for City #296: ibotirama\n",
      "Processing the data for City #297: lompoc\n",
      "Processing the data for City #298: quang ngai\n",
      "Processing the data for City #299: lasa\n",
      "Processing the data for City #300: sabang\n",
      "Processing the data for City #301: hereford\n",
      "Processing the data for City #302: asilah\n",
      "Processing the data for City #303: balkhash\n",
      "Processing the data for City #304: cabra\n",
      "Processing the data for City #305: alford\n",
      "Processing the data for City #306: sutton\n",
      "Processing the data for City #307: ifakara\n",
      "Processing the data for City #308: tahe\n",
      "Processing the data for City #309: madaripur\n",
      "Processing the data for City #310: whyalla\n",
      "Processing the data for City #311: dunedin\n",
      "Processing the data for City #312: chahal\n",
      "Processing the data for City #313: san jose\n",
      "Processing the data for City #314: te anau\n",
      "Processing the data for City #315: maumere\n",
      "Processing the data for City #316: touros\n",
      "Processing the data for City #317: tigzirt\n",
      "Processing the data for City #318: caravelas\n",
      "Processing the data for City #319: les ponts-de-ce\n",
      "Processing the data for City #320: north bend\n",
      "Processing the data for City #321: prince albert\n",
      "Processing the data for City #322: agdam\n",
      "Processing the data for City #323: port blair\n",
      "Processing the data for City #324: roma\n",
      "Processing the data for City #325: arlit\n",
      "Processing the data for City #326: kimbe\n",
      "Processing the data for City #327: nchelenge\n",
      "Processing the data for City #328: shu\n",
      "Processing the data for City #329: maniitsoq\n",
      "Processing the data for City #330: anloga\n",
      "Processing the data for City #331: antalaha\n",
      "Processing the data for City #332: nantucket\n",
      "Processing the data for City #333: havoysund\n",
      "Error with City #334: rungata\n",
      "Processing the data for City #335: ewa beach\n",
      "Processing the data for City #336: taltal\n",
      "Error with City #337: dibaya\n",
      "Processing the data for City #338: abha\n",
      "Processing the data for City #339: aboisso\n",
      "Processing the data for City #340: hoopstad\n",
      "Processing the data for City #341: doka\n",
      "Processing the data for City #342: kota tinggi\n",
      "Processing the data for City #343: pedasi\n",
      "Processing the data for City #344: isla vista\n",
      "Processing the data for City #345: portland\n",
      "Processing the data for City #346: salzwedel\n",
      "Processing the data for City #347: laguna\n",
      "Processing the data for City #348: severo-kurilsk\n",
      "Processing the data for City #349: kualakapuas\n",
      "Error with City #350: fort saint john\n",
      "Processing the data for City #351: goderich\n",
      "Processing the data for City #352: ratlam\n",
      "Processing the data for City #353: upernavik\n",
      "Processing the data for City #354: sao bento\n",
      "Processing the data for City #355: pahrump\n",
      "Processing the data for City #356: nicoya\n",
      "Processing the data for City #357: leningradskiy\n",
      "Processing the data for City #358: petropavlovsk-kamchatskiy\n",
      "Processing the data for City #359: sakakah\n",
      "Processing the data for City #360: byron bay\n",
      "Processing the data for City #361: grenfell\n",
      "Processing the data for City #362: divnoye\n",
      "Processing the data for City #363: gimli\n",
      "Processing the data for City #364: okrisky\n",
      "Processing the data for City #365: sitka\n",
      "Processing the data for City #366: coahuayana\n",
      "Processing the data for City #367: the valley\n",
      "Processing the data for City #368: kidal\n",
      "Processing the data for City #369: bengkulu\n",
      "Error with City #370: afmadu\n",
      "Processing the data for City #371: matara\n",
      "Processing the data for City #372: elk city\n",
      "Processing the data for City #373: sayan\n",
      "Processing the data for City #374: stokmarknes\n",
      "Processing the data for City #375: fortuna\n",
      "Processing the data for City #376: maua\n",
      "Processing the data for City #377: dongli\n",
      "Processing the data for City #378: kalmunai\n",
      "Processing the data for City #379: karratha\n",
      "Error with City #380: higuey\n",
      "Processing the data for City #381: port hardy\n",
      "Processing the data for City #382: inta\n",
      "Processing the data for City #383: shamgarh\n",
      "Processing the data for City #384: vestmannaeyjar\n"
     ]
    },
    {
     "name": "stdout",
     "output_type": "stream",
     "text": [
      "Processing the data for City #385: clarksburg\n",
      "Processing the data for City #386: xai-xai\n",
      "Processing the data for City #387: xinzhi\n",
      "Processing the data for City #388: kingman\n",
      "Processing the data for City #389: murdochville\n",
      "Processing the data for City #390: soyo\n",
      "Processing the data for City #391: lata\n",
      "Processing the data for City #392: balabac\n",
      "Processing the data for City #393: pulandian\n",
      "Processing the data for City #394: northam\n",
      "Processing the data for City #395: santiago de cao\n",
      "Processing the data for City #396: port shepstone\n",
      "Processing the data for City #397: praia\n",
      "Processing the data for City #398: dingle\n",
      "Processing the data for City #399: aksarka\n",
      "Processing the data for City #400: mehamn\n",
      "Processing the data for City #401: naberera\n",
      "Processing the data for City #402: jalu\n",
      "Processing the data for City #403: thinadhoo\n",
      "Processing the data for City #404: conakry\n",
      "Processing the data for City #405: havre-saint-pierre\n",
      "Processing the data for City #406: dudinka\n",
      "Processing the data for City #407: sao raimundo das mangabeiras\n",
      "Processing the data for City #408: grootfontein\n",
      "Processing the data for City #409: high prairie\n",
      "Processing the data for City #410: innisfail\n",
      "Processing the data for City #411: awjilah\n",
      "Processing the data for City #412: yerbogachen\n",
      "Processing the data for City #413: hambantota\n",
      "Processing the data for City #414: henties bay\n",
      "Processing the data for City #415: genhe\n",
      "Processing the data for City #416: tilichiki\n",
      "Processing the data for City #417: brokopondo\n",
      "Processing the data for City #418: lamar\n",
      "Processing the data for City #419: inverell\n",
      "Error with City #420: ndouci\n",
      "Processing the data for City #421: cayenne\n",
      "Processing the data for City #422: nabire\n",
      "Processing the data for City #423: berlevag\n",
      "Processing the data for City #424: tres arroyos\n",
      "Processing the data for City #425: macau\n",
      "Processing the data for City #426: ilinskiy\n",
      "Processing the data for City #427: santa lucia\n",
      "Processing the data for City #428: mount gambier\n",
      "Processing the data for City #429: hervey bay\n",
      "Processing the data for City #430: puri\n",
      "Processing the data for City #431: saravena\n",
      "Processing the data for City #432: paamiut\n",
      "Processing the data for City #433: isangel\n",
      "Processing the data for City #434: turayf\n",
      "Processing the data for City #435: makhinjauri\n",
      "Processing the data for City #436: mayumba\n",
      "Processing the data for City #437: kruisfontein\n",
      "Processing the data for City #438: camacupa\n",
      "Processing the data for City #439: srednekolymsk\n",
      "Processing the data for City #440: teruel\n",
      "Processing the data for City #441: archidona\n",
      "Processing the data for City #442: conde\n",
      "Error with City #443: wahran\n",
      "Processing the data for City #444: bundaberg\n",
      "Processing the data for City #445: tazovskiy\n",
      "Processing the data for City #446: barranca\n",
      "Processing the data for City #447: gold coast\n",
      "Error with City #448: maykain\n",
      "Processing the data for City #449: buzdyak\n",
      "Processing the data for City #450: peterhead\n",
      "Error with City #451: grand centre\n",
      "Processing the data for City #452: kamenka\n",
      "Processing the data for City #453: farafangana\n",
      "Processing the data for City #454: rawson\n",
      "Processing the data for City #455: upata\n",
      "Processing the data for City #456: barinitas\n",
      "Processing the data for City #457: grand forks\n",
      "Processing the data for City #458: berdigestyakh\n",
      "Processing the data for City #459: tevaitoa\n",
      "Processing the data for City #460: harrisburg\n",
      "Processing the data for City #461: fukagawa\n",
      "Processing the data for City #462: lewistown\n",
      "Processing the data for City #463: coihaique\n",
      "Processing the data for City #464: williston\n",
      "Processing the data for City #465: loreto\n",
      "Processing the data for City #466: chenzhou\n",
      "Error with City #467: tarudant\n",
      "Processing the data for City #468: sioux lookout\n",
      "Processing the data for City #469: ciudad bolivar\n",
      "Processing the data for City #470: nianzishan\n",
      "Processing the data for City #471: mulchen\n",
      "Error with City #472: umzimvubu\n",
      "Processing the data for City #473: tagusao\n",
      "Processing the data for City #474: erenhot\n",
      "Processing the data for City #475: faya\n",
      "Processing the data for City #476: dzhebariki-khaya\n",
      "Error with City #477: xiongshi\n",
      "Processing the data for City #478: rock sound\n",
      "Processing the data for City #479: narsaq\n",
      "Processing the data for City #480: sola\n",
      "Processing the data for City #481: wilmington\n",
      "Processing the data for City #482: egvekinot\n",
      "Processing the data for City #483: hami\n",
      "Error with City #484: sataua\n",
      "Error with City #485: nguiu\n",
      "Processing the data for City #486: oktyabrskiy\n",
      "Error with City #487: panjwin\n",
      "Error with City #488: satitoa\n",
      "Processing the data for City #489: puerto colombia\n",
      "Processing the data for City #490: ust-ilimsk\n",
      "Error with City #491: bur gabo\n",
      "Processing the data for City #492: la romana\n",
      "Error with City #493: mendahara\n",
      "Processing the data for City #494: bulgan\n",
      "Processing the data for City #495: sunrise manor\n",
      "Processing the data for City #496: canico\n",
      "Processing the data for City #497: orange cove\n",
      "Processing the data for City #498: puerto escondido\n",
      "Processing the data for City #499: owando\n",
      "Processing the data for City #500: sandovo\n",
      "Processing the data for City #501: oriximina\n",
      "Processing the data for City #502: holland\n",
      "Processing the data for City #503: serenje\n",
      "Processing the data for City #504: akdagmadeni\n",
      "Processing the data for City #505: soe\n",
      "Processing the data for City #506: mandalgovi\n",
      "Processing the data for City #507: itoman\n",
      "Processing the data for City #508: keansburg\n",
      "Processing the data for City #509: tortoli\n",
      "Processing the data for City #510: renqiu\n",
      "Processing the data for City #511: kailua\n",
      "Processing the data for City #512: muzhi\n",
      "Processing the data for City #513: plettenberg bay\n",
      "Processing the data for City #514: tatarka\n",
      "Processing the data for City #515: richards bay\n",
      "Processing the data for City #516: motygino\n",
      "Processing the data for City #517: turan\n",
      "Processing the data for City #518: rovaniemi\n",
      "Processing the data for City #519: mattoon\n",
      "Processing the data for City #520: diego de almagro\n",
      "Processing the data for City #521: okha\n",
      "Processing the data for City #522: zyryanskoye\n",
      "Processing the data for City #523: sinnai\n",
      "Processing the data for City #524: sassandra\n",
      "Processing the data for City #525: acarau\n",
      "Processing the data for City #526: santa clarita\n",
      "Error with City #527: tumannyy\n",
      "Processing the data for City #528: bamnet narong\n",
      "Processing the data for City #529: gladstone\n",
      "Processing the data for City #530: manokwari\n",
      "Processing the data for City #531: praya\n",
      "Processing the data for City #532: salinopolis\n",
      "Processing the data for City #533: deputatskiy\n",
      "Processing the data for City #534: oranjemund\n",
      "Error with City #535: yingshang\n",
      "Processing the data for City #536: babynino\n",
      "Processing the data for City #537: altamont\n",
      "Processing the data for City #538: boddam\n",
      "Processing the data for City #539: broken hill\n",
      "Processing the data for City #540: nador\n",
      "Processing the data for City #541: caceres\n",
      "Processing the data for City #542: biak\n",
      "Processing the data for City #543: pervomayskoye\n",
      "Processing the data for City #544: byumba\n",
      "Processing the data for City #545: souillac\n",
      "Processing the data for City #546: polunochnoye\n",
      "Processing the data for City #547: zunyi\n",
      "Processing the data for City #548: marawi\n",
      "Processing the data for City #549: micheweni\n",
      "Processing the data for City #550: moree\n",
      "Processing the data for City #551: comodoro rivadavia\n",
      "Processing the data for City #552: adela\n",
      "Processing the data for City #553: magadan\n",
      "Error with City #554: afgoye\n",
      "Processing the data for City #555: fairbanks\n",
      "Processing the data for City #556: komsomolskiy\n",
      "Processing the data for City #557: sergeyevka\n",
      "Processing the data for City #558: arkhangelsk\n",
      "Processing the data for City #559: lakselv\n",
      "Processing the data for City #560: olga\n",
      "Error with City #561: yirol\n",
      "Processing the data for City #562: port-gentil\n",
      "Processing the data for City #563: honiara\n",
      "Processing the data for City #564: alta floresta\n",
      "Processing the data for City #565: inhambane\n",
      "Processing the data for City #566: sept-iles\n",
      "Processing the data for City #567: pilar\n",
      "Processing the data for City #568: dicabisagan\n",
      "Processing the data for City #569: roald\n",
      "Processing the data for City #570: buenos aires\n",
      "Processing the data for City #571: griffith\n",
      "Processing the data for City #572: hoquiam\n",
      "Processing the data for City #573: kavaratti\n"
     ]
    },
    {
     "name": "stdout",
     "output_type": "stream",
     "text": [
      "Processing the data for City #574: tessalit\n",
      "Processing the data for City #575: hailey\n",
      "Processing the data for City #576: vondrozo\n",
      "Error with City #577: kuche\n",
      "Processing the data for City #578: evensk\n",
      "Processing the data for City #579: kavieng\n",
      "Processing the data for City #580: luderitz\n",
      "Processing the data for City #581: buala\n",
      "Processing the data for City #582: koboko\n",
      "Processing the data for City #583: aguimes\n",
      "Processing the data for City #584: victor harbor\n",
      "Processing the data for City #585: heihe\n",
      "Processing the data for City #586: edson\n",
      "Processing the data for City #587: diffa\n",
      "Processing the data for City #588: ceres\n",
      "Processing the data for City #589: anori\n",
      "Processing the data for City #590: lingao\n",
      "Processing the data for City #591: baishishan\n",
      "Processing the data for City #592: balkanabat\n",
      "Processing the data for City #593: sohbatpur\n",
      "Processing the data for City #594: cam ranh\n",
      "Processing the data for City #595: gull lake\n",
      "Processing the data for City #596: beryslav\n",
      "Processing the data for City #597: labuhan\n",
      "Error with City #598: barbar\n",
      "Processing the data for City #599: sol-iletsk\n",
      "Processing the data for City #600: honningsvag\n",
      "Processing the data for City #601: namatanai\n",
      "Processing the data for City #602: amalapuram\n",
      "Processing the data for City #603: igrim\n",
      "Processing the data for City #604: avera\n",
      "Processing the data for City #605: bilma\n",
      "Processing the data for City #606: san pedro\n",
      "Processing the data for City #607: takoradi\n",
      "Processing the data for City #608: longyan\n",
      "Error with City #609: juifang\n",
      "Processing the data for City #610: bonthe\n",
      "Processing the data for City #611: bermejo\n"
     ]
    }
   ],
   "source": [
    "citiesdf=pd.DataFrame(cities)\n",
    "citiesdf.rename(columns={0:\"City\"}, inplace=True)\n",
    "citiesdf[\"Lat\"]=None\n",
    "citiesdf[\"Lng\"]=None\n",
    "citiesdf[\"Temperature (F)\"]=None\n",
    "citiesdf[\"Humidity (%)\"]=None\n",
    "citiesdf[\"Cloudiness (%)\"]=None\n",
    "citiesdf[\"Wind Speed (mph)\"]=None\n",
    "url=f\"http://api.openweathermap.org/data/2.5/weather?appid={weather_api_key}&units=imperial&q=\"\n",
    "\n",
    "for index, row in citiesdf.iterrows():\n",
    "    try:\n",
    "        response=requests.get(url+row[\"City\"]).json()\n",
    "        row[\"Lng\"]=response[\"coord\"][\"lon\"]\n",
    "        row[\"Lat\"]=response[\"coord\"][\"lat\"]\n",
    "        row[\"Temperature (F)\"]=response[\"main\"][\"temp\"]\n",
    "        row[\"Humidity (%)\"]=response[\"main\"][\"humidity\"]\n",
    "        row[\"Cloudiness (%)\"]=response[\"clouds\"][\"all\"]\n",
    "        row[\"Wind Speed (mph)\"]=response[\"wind\"][\"speed\"]\n",
    "        print(f\"Processing the data for City #{index}: {row['City']}\")\n",
    "    except(KeyError):\n",
    "        print(f\"Error with City #{index}: {row['City']}\")\n",
    "    "
   ]
  },
  {
   "cell_type": "markdown",
   "metadata": {},
   "source": [
    "### Convert Raw Data to DataFrame\n",
    "* Export the city data into a .csv.\n",
    "* Display the DataFrame"
   ]
  },
  {
   "cell_type": "code",
   "execution_count": 125,
   "metadata": {},
   "outputs": [],
   "source": [
    "citiesdfdropped=citiesdf.dropna()"
   ]
  },
  {
   "cell_type": "code",
   "execution_count": 129,
   "metadata": {},
   "outputs": [
    {
     "name": "stderr",
     "output_type": "stream",
     "text": [
      "C:\\Users\\shado\\Anaconda3\\lib\\site-packages\\ipykernel_launcher.py:1: SettingWithCopyWarning: \n",
      "A value is trying to be set on a copy of a slice from a DataFrame.\n",
      "Try using .loc[row_indexer,col_indexer] = value instead\n",
      "\n",
      "See the caveats in the documentation: http://pandas.pydata.org/pandas-docs/stable/user_guide/indexing.html#returning-a-view-versus-a-copy\n",
      "  \"\"\"Entry point for launching an IPython kernel.\n",
      "C:\\Users\\shado\\Anaconda3\\lib\\site-packages\\ipykernel_launcher.py:2: SettingWithCopyWarning: \n",
      "A value is trying to be set on a copy of a slice from a DataFrame.\n",
      "Try using .loc[row_indexer,col_indexer] = value instead\n",
      "\n",
      "See the caveats in the documentation: http://pandas.pydata.org/pandas-docs/stable/user_guide/indexing.html#returning-a-view-versus-a-copy\n",
      "  \n",
      "C:\\Users\\shado\\Anaconda3\\lib\\site-packages\\ipykernel_launcher.py:3: SettingWithCopyWarning: \n",
      "A value is trying to be set on a copy of a slice from a DataFrame.\n",
      "Try using .loc[row_indexer,col_indexer] = value instead\n",
      "\n",
      "See the caveats in the documentation: http://pandas.pydata.org/pandas-docs/stable/user_guide/indexing.html#returning-a-view-versus-a-copy\n",
      "  This is separate from the ipykernel package so we can avoid doing imports until\n",
      "C:\\Users\\shado\\Anaconda3\\lib\\site-packages\\ipykernel_launcher.py:4: SettingWithCopyWarning: \n",
      "A value is trying to be set on a copy of a slice from a DataFrame.\n",
      "Try using .loc[row_indexer,col_indexer] = value instead\n",
      "\n",
      "See the caveats in the documentation: http://pandas.pydata.org/pandas-docs/stable/user_guide/indexing.html#returning-a-view-versus-a-copy\n",
      "  after removing the cwd from sys.path.\n",
      "C:\\Users\\shado\\Anaconda3\\lib\\site-packages\\ipykernel_launcher.py:5: SettingWithCopyWarning: \n",
      "A value is trying to be set on a copy of a slice from a DataFrame.\n",
      "Try using .loc[row_indexer,col_indexer] = value instead\n",
      "\n",
      "See the caveats in the documentation: http://pandas.pydata.org/pandas-docs/stable/user_guide/indexing.html#returning-a-view-versus-a-copy\n",
      "  \"\"\"\n",
      "C:\\Users\\shado\\Anaconda3\\lib\\site-packages\\ipykernel_launcher.py:6: SettingWithCopyWarning: \n",
      "A value is trying to be set on a copy of a slice from a DataFrame.\n",
      "Try using .loc[row_indexer,col_indexer] = value instead\n",
      "\n",
      "See the caveats in the documentation: http://pandas.pydata.org/pandas-docs/stable/user_guide/indexing.html#returning-a-view-versus-a-copy\n",
      "  \n"
     ]
    }
   ],
   "source": [
    "citiesdfdropped[\"Lng\"]=citiesdfdropped[\"Lng\"].astype(\"float\")\n",
    "citiesdfdropped[\"Lat\"]=citiesdfdropped[\"Lat\"].astype(\"float\")\n",
    "citiesdfdropped[\"Temperature (F)\"]=citiesdfdropped[\"Temperature (F)\"].astype(\"float\")\n",
    "citiesdfdropped[\"Humidity (%)\"]=citiesdfdropped[\"Humidity (%)\"].astype(\"float\")\n",
    "citiesdfdropped[\"Cloudiness (%)\"]=citiesdfdropped[\"Cloudiness (%)\"].astype(\"float\")\n",
    "citiesdfdropped[\"Wind Speed (mph)\"]=citiesdfdropped[\"Wind Speed (mph)\"].astype(\"float\")\n",
    "citiesdfdropped.to_csv(output_data_file)"
   ]
  },
  {
   "cell_type": "markdown",
   "metadata": {},
   "source": [
    "### Plotting the Data\n",
    "* Use proper labeling of the plots using plot titles (including date of analysis) and axes labels.\n",
    "* Save the plotted figures as .pngs."
   ]
  },
  {
   "cell_type": "markdown",
   "metadata": {},
   "source": [
    "#### Latitude vs. Temperature Plot"
   ]
  },
  {
   "cell_type": "code",
   "execution_count": 130,
   "metadata": {
    "scrolled": true
   },
   "outputs": [
    {
     "data": {
      "image/png": "[encoded data removed]",
      "text/plain": [
       "<Figure size 432x288 with 1 Axes>"
      ]
     },
     "metadata": {
      "needs_background": "light"
     },
     "output_type": "display_data"
    }
   ],
   "source": [
    "citiesdfdropped.plot.scatter(\"Lat\",\"Temperature (F)\")\n",
    "plt.savefig('../output_data/LatvsTemp.png')"
   ]
  },
  {
   "cell_type": "markdown",
   "metadata": {},
   "source": [
    "#### Latitude vs. Humidity Plot"
   ]
  },
  {
   "cell_type": "code",
   "execution_count": 131,
   "metadata": {},
   "outputs": [
    {
     "data": {
      "image/png": "[encoded data removed]",
      "text/plain": [
       "<Figure size 432x288 with 1 Axes>"
      ]
     },
     "metadata": {
      "needs_background": "light"
     },
     "output_type": "display_data"
    }
   ],
   "source": [
    "citiesdfdropped.plot.scatter(\"Lat\",\"Humidity (%)\")\n",
    "plt.savefig('../output_data/LatvsHumidity.png')"
   ]
  },
  {
   "cell_type": "markdown",
   "metadata": {},
   "source": [
    "#### Latitude vs. Cloudiness Plot"
   ]
  },
  {
   "cell_type": "code",
   "execution_count": 132,
   "metadata": {},
   "outputs": [
    {
     "data": {
      "image/png": "[encoded data removed]",
      "text/plain": [
       "<Figure size 432x288 with 1 Axes>"
      ]
     },
     "metadata": {
      "needs_background": "light"
     },
     "output_type": "display_data"
    }
   ],
   "source": [
    "citiesdfdropped.plot.scatter(\"Lat\",\"Cloudiness (%)\")\n",
    "plt.savefig('../output_data/LatvsClouds.png')"
   ]
  },
  {
   "cell_type": "markdown",
   "metadata": {},
   "source": [
    "#### Latitude vs. Wind Speed Plot"
   ]
  },
  {
   "cell_type": "code",
   "execution_count": 133,
   "metadata": {},
   "outputs": [
    {
     "data": {
      "image/png": "[encoded data removed]",
      "text/plain": [
       "<Figure size 432x288 with 1 Axes>"
      ]
     },
     "metadata": {
      "needs_background": "light"
     },
     "output_type": "display_data"
    }
   ],
   "source": [
    "citiesdfdropped.plot.scatter(\"Lat\",\"Wind Speed (mph)\")\n",
    "plt.savefig('../output_data/LatvsWind.png')"
   ]
  },
  {
   "cell_type": "markdown",
   "metadata": {},
   "source": [
    "## Linear Regression"
   ]
  },
  {
   "cell_type": "code",
   "execution_count": 134,
   "metadata": {},
   "outputs": [],
   "source": [
    "# OPTIONAL: Create a function to create Linear Regression plots\n"
   ]
  },
  {
   "cell_type": "code",
   "execution_count": 135,
   "metadata": {},
   "outputs": [
    {
     "data": {
      "text/html": [
       "<div>\n",
       "<style scoped>\n",
       "    .dataframe tbody tr th:only-of-type {\n",
       "        vertical-align: middle;\n",
       "    }\n",
       "\n",
       "    .dataframe tbody tr th {\n",
       "        vertical-align: top;\n",
       "    }\n",
       "\n",
       "    .dataframe thead th {\n",
       "        text-align: right;\n",
       "    }\n",
       "</style>\n",
       "<table border=\"1\" class=\"dataframe\">\n",
       "  <thead>\n",
       "    <tr style=\"text-align: right;\">\n",
       "      <th></th>\n",
       "      <th>City</th>\n",
       "      <th>Lat</th>\n",
       "      <th>Lng</th>\n",
       "      <th>Temperature (F)</th>\n",
       "      <th>Humidity (%)</th>\n",
       "      <th>Cloudiness (%)</th>\n",
       "      <th>Wind Speed (mph)</th>\n",
       "    </tr>\n",
       "  </thead>\n",
       "  <tbody>\n",
       "    <tr>\n",
       "      <td>1</td>\n",
       "      <td>praia da vitoria</td>\n",
       "      <td>38.73</td>\n",
       "      <td>-27.07</td>\n",
       "      <td>57.20</td>\n",
       "      <td>82.0</td>\n",
       "      <td>75.0</td>\n",
       "      <td>16.71</td>\n",
       "    </tr>\n",
       "    <tr>\n",
       "      <td>2</td>\n",
       "      <td>meulaboh</td>\n",
       "      <td>4.14</td>\n",
       "      <td>96.13</td>\n",
       "      <td>80.67</td>\n",
       "      <td>78.0</td>\n",
       "      <td>85.0</td>\n",
       "      <td>7.36</td>\n",
       "    </tr>\n",
       "    <tr>\n",
       "      <td>3</td>\n",
       "      <td>mawlaik</td>\n",
       "      <td>23.63</td>\n",
       "      <td>94.42</td>\n",
       "      <td>67.08</td>\n",
       "      <td>38.0</td>\n",
       "      <td>0.0</td>\n",
       "      <td>1.57</td>\n",
       "    </tr>\n",
       "    <tr>\n",
       "      <td>5</td>\n",
       "      <td>yarada</td>\n",
       "      <td>17.65</td>\n",
       "      <td>83.27</td>\n",
       "      <td>68.00</td>\n",
       "      <td>100.0</td>\n",
       "      <td>40.0</td>\n",
       "      <td>2.24</td>\n",
       "    </tr>\n",
       "    <tr>\n",
       "      <td>6</td>\n",
       "      <td>livermore</td>\n",
       "      <td>37.68</td>\n",
       "      <td>-121.77</td>\n",
       "      <td>55.45</td>\n",
       "      <td>82.0</td>\n",
       "      <td>1.0</td>\n",
       "      <td>4.70</td>\n",
       "    </tr>\n",
       "    <tr>\n",
       "      <td>...</td>\n",
       "      <td>...</td>\n",
       "      <td>...</td>\n",
       "      <td>...</td>\n",
       "      <td>...</td>\n",
       "      <td>...</td>\n",
       "      <td>...</td>\n",
       "      <td>...</td>\n",
       "    </tr>\n",
       "    <tr>\n",
       "      <td>605</td>\n",
       "      <td>bilma</td>\n",
       "      <td>18.69</td>\n",
       "      <td>12.92</td>\n",
       "      <td>59.02</td>\n",
       "      <td>21.0</td>\n",
       "      <td>14.0</td>\n",
       "      <td>9.22</td>\n",
       "    </tr>\n",
       "    <tr>\n",
       "      <td>606</td>\n",
       "      <td>san pedro</td>\n",
       "      <td>14.35</td>\n",
       "      <td>121.02</td>\n",
       "      <td>83.70</td>\n",
       "      <td>61.0</td>\n",
       "      <td>20.0</td>\n",
       "      <td>11.41</td>\n",
       "    </tr>\n",
       "    <tr>\n",
       "      <td>607</td>\n",
       "      <td>takoradi</td>\n",
       "      <td>4.88</td>\n",
       "      <td>-1.76</td>\n",
       "      <td>77.76</td>\n",
       "      <td>90.0</td>\n",
       "      <td>99.0</td>\n",
       "      <td>3.04</td>\n",
       "    </tr>\n",
       "    <tr>\n",
       "      <td>608</td>\n",
       "      <td>longyan</td>\n",
       "      <td>25.11</td>\n",
       "      <td>117.02</td>\n",
       "      <td>79.00</td>\n",
       "      <td>99.0</td>\n",
       "      <td>100.0</td>\n",
       "      <td>3.40</td>\n",
       "    </tr>\n",
       "    <tr>\n",
       "      <td>610</td>\n",
       "      <td>bonthe</td>\n",
       "      <td>7.53</td>\n",
       "      <td>-12.51</td>\n",
       "      <td>79.14</td>\n",
       "      <td>83.0</td>\n",
       "      <td>100.0</td>\n",
       "      <td>3.89</td>\n",
       "    </tr>\n",
       "  </tbody>\n",
       "</table>\n",
       "<p>378 rows × 7 columns</p>\n",
       "</div>"
      ],
      "text/plain": [
       "                 City    Lat     Lng  Temperature (F)  Humidity (%)  \\\n",
       "1    praia da vitoria  38.73  -27.07            57.20          82.0   \n",
       "2            meulaboh   4.14   96.13            80.67          78.0   \n",
       "3             mawlaik  23.63   94.42            67.08          38.0   \n",
       "5              yarada  17.65   83.27            68.00         100.0   \n",
       "6           livermore  37.68 -121.77            55.45          82.0   \n",
       "..                ...    ...     ...              ...           ...   \n",
       "605             bilma  18.69   12.92            59.02          21.0   \n",
       "606         san pedro  14.35  121.02            83.70          61.0   \n",
       "607          takoradi   4.88   -1.76            77.76          90.0   \n",
       "608           longyan  25.11  117.02            79.00          99.0   \n",
       "610            bonthe   7.53  -12.51            79.14          83.0   \n",
       "\n",
       "     Cloudiness (%)  Wind Speed (mph)  \n",
       "1              75.0             16.71  \n",
       "2              85.0              7.36  \n",
       "3               0.0              1.57  \n",
       "5              40.0              2.24  \n",
       "6               1.0              4.70  \n",
       "..              ...               ...  \n",
       "605            14.0              9.22  \n",
       "606            20.0             11.41  \n",
       "607            99.0              3.04  \n",
       "608           100.0              3.40  \n",
       "610           100.0              3.89  \n",
       "\n",
       "[378 rows x 7 columns]"
      ]
     },
     "execution_count": 135,
     "metadata": {},
     "output_type": "execute_result"
    }
   ],
   "source": [
    "# Create Northern and Southern Hemisphere DataFrames\n",
    "northerndf=citiesdfdropped.loc[citiesdfdropped[\"Lat\"]>=0]\n",
    "southerndf=citiesdfdropped.loc[citiesdfdropped[\"Lat\"]<0]\n",
    "northerndf"
   ]
  },
  {
   "cell_type": "markdown",
   "metadata": {},
   "source": [
    "####  Northern Hemisphere - Max Temp vs. Latitude Linear Regression"
   ]
  },
  {
   "cell_type": "code",
   "execution_count": 136,
   "metadata": {},
   "outputs": [
    {
     "data": {
      "text/plain": [
       "<matplotlib.collections.PathCollection at 0x294bce45948>"
      ]
     },
     "execution_count": 136,
     "metadata": {},
     "output_type": "execute_result"
    },
    {
     "data": {
      "image/png": "[encoded data removed]",
      "text/plain": [
       "<Figure size 432x288 with 1 Axes>"
      ]
     },
     "metadata": {
      "needs_background": "light"
     },
     "output_type": "display_data"
    }
   ],
   "source": [
    "# northerndf.sort_values([\"Temperature (F)\"], ascending=False, inplace=True)\n",
    "# northerndf\n",
    "# northerngroupeddf=northerndf.groupby([\"Lat\"]).first()\n",
    "\n",
    "# slope, intercept, r_value, p_value, sem = linregress(northerngroupeddf.index.values,northerngroupeddf[\"Temperature (F)\"])\n",
    "# plt.plot(northerngroupeddf.index.values, slope*northerngroupeddf.index.values+intercept)\n",
    "# plt.scatter(northerngroupeddf.index.values,northerngroupeddf[\"Temperature (F)\"])\n",
    "\n",
    "slope, intercept, r_value, p_value, sem = linregress(northerndf[\"Lat\"],northerndf[\"Temperature (F)\"])\n",
    "plt.plot(northerndf[\"Lat\"], slope*northerndf[\"Lat\"]+intercept)\n",
    "plt.scatter(northerndf[\"Lat\"],northerndf[\"Temperature (F)\"])"
   ]
  },
  {
   "cell_type": "markdown",
   "metadata": {},
   "source": [
    "####  Southern Hemisphere - Max Temp vs. Latitude Linear Regression"
   ]
  },
  {
   "cell_type": "code",
   "execution_count": 137,
   "metadata": {},
   "outputs": [
    {
     "data": {
      "text/plain": [
       "<matplotlib.collections.PathCollection at 0x294bcc41ac8>"
      ]
     },
     "execution_count": 137,
     "metadata": {},
     "output_type": "execute_result"
    },
    {
     "data": {
      "image/png": "[encoded data removed]",
      "text/plain": [
       "<Figure size 432x288 with 1 Axes>"
      ]
     },
     "metadata": {
      "needs_background": "light"
     },
     "output_type": "display_data"
    }
   ],
   "source": [
    "# southerndf.sort_values([\"Temperature (F)\"], ascending=False, inplace=True)\n",
    "# southerndf\n",
    "# southerngroupeddf=southerndf.groupby([\"Lat\"]).first()\n",
    "\n",
    "# slope, intercept, r_value, p_value, sem = linregress(southerngroupeddf.index.values,southerngroupeddf[\"Temperature (F)\"])\n",
    "# plt.plot(southerngroupeddf.index.values, slope*southerngroupeddf.index.values+intercept)\n",
    "# plt.scatter(southerngroupeddf.index.values,southerngroupeddf[\"Temperature (F)\"])\n",
    "slope, intercept, r_value, p_value, sem = linregress(southerndf[\"Lat\"],southerndf[\"Temperature (F)\"])\n",
    "plt.plot(southerndf[\"Lat\"], slope*southerndf[\"Lat\"]+intercept)\n",
    "plt.scatter(southerndf[\"Lat\"],southerndf[\"Temperature (F)\"])"
   ]
  },
  {
   "cell_type": "markdown",
   "metadata": {},
   "source": [
    "####  Northern Hemisphere - Humidity (%) vs. Latitude Linear Regression"
   ]
  },
  {
   "cell_type": "code",
   "execution_count": 138,
   "metadata": {},
   "outputs": [
    {
     "data": {
      "text/plain": [
       "<matplotlib.collections.PathCollection at 0x294bcbe8f08>"
      ]
     },
     "execution_count": 138,
     "metadata": {},
     "output_type": "execute_result"
    },
    {
     "data": {
      "image/png": "[encoded data removed]",
      "text/plain": [
       "<Figure size 432x288 with 1 Axes>"
      ]
     },
     "metadata": {
      "needs_background": "light"
     },
     "output_type": "display_data"
    }
   ],
   "source": [
    "slope, intercept, r_value, p_value, sem = linregress(northerndf[\"Lat\"],northerndf[\"Humidity (%)\"])\n",
    "plt.plot(northerndf[\"Lat\"], slope*northerndf[\"Lat\"]+intercept)\n",
    "plt.scatter(northerndf[\"Lat\"],northerndf[\"Humidity (%)\"])"
   ]
  },
  {
   "cell_type": "markdown",
   "metadata": {},
   "source": [
    "####  Southern Hemisphere - Humidity (%) vs. Latitude Linear Regression"
   ]
  },
  {
   "cell_type": "code",
   "execution_count": 139,
   "metadata": {},
   "outputs": [
    {
     "data": {
      "text/plain": [
       "<matplotlib.collections.PathCollection at 0x294bc944508>"
      ]
     },
     "execution_count": 139,
     "metadata": {},
     "output_type": "execute_result"
    },
    {
     "data": {
      "image/png": "[encoded data removed]",
      "text/plain": [
       "<Figure size 432x288 with 1 Axes>"
      ]
     },
     "metadata": {
      "needs_background": "light"
     },
     "output_type": "display_data"
    }
   ],
   "source": [
    "slope, intercept, r_value, p_value, sem = linregress(southerndf[\"Lat\"],southerndf[\"Humidity (%)\"])\n",
    "plt.plot(southerndf[\"Lat\"], slope*southerndf[\"Lat\"]+intercept)\n",
    "plt.scatter(southerndf[\"Lat\"],southerndf[\"Humidity (%)\"])"
   ]
  },
  {
   "cell_type": "markdown",
   "metadata": {},
   "source": [
    "####  Northern Hemisphere - Cloudiness (%) vs. Latitude Linear Regression"
   ]
  },
  {
   "cell_type": "code",
   "execution_count": 140,
   "metadata": {},
   "outputs": [
    {
     "data": {
      "text/plain": [
       "<matplotlib.collections.PathCollection at 0x294bcaff1c8>"
      ]
     },
     "execution_count": 140,
     "metadata": {},
     "output_type": "execute_result"
    },
    {
     "data": {
      "image/png": "[encoded data removed]",
      "text/plain": [
       "<Figure size 432x288 with 1 Axes>"
      ]
     },
     "metadata": {
      "needs_background": "light"
     },
     "output_type": "display_data"
    }
   ],
   "source": [
    "slope, intercept, r_value, p_value, sem = linregress(northerndf[\"Lat\"],northerndf[\"Cloudiness (%)\"])\n",
    "plt.plot(northerndf[\"Lat\"], slope*northerndf[\"Lat\"]+intercept)\n",
    "plt.scatter(northerndf[\"Lat\"],northerndf[\"Cloudiness (%)\"])"
   ]
  },
  {
   "cell_type": "markdown",
   "metadata": {},
   "source": [
    "####  Southern Hemisphere - Cloudiness (%) vs. Latitude Linear Regression"
   ]
  },
  {
   "cell_type": "code",
   "execution_count": 141,
   "metadata": {},
   "outputs": [
    {
     "data": {
      "text/plain": [
       "<matplotlib.collections.PathCollection at 0x294bb203188>"
      ]
     },
     "execution_count": 141,
     "metadata": {},
     "output_type": "execute_result"
    },
    {
     "data": {
      "image/png": "[encoded data removed]",
      "text/plain": [
       "<Figure size 432x288 with 1 Axes>"
      ]
     },
     "metadata": {
      "needs_background": "light"
     },
     "output_type": "display_data"
    }
   ],
   "source": [
    "slope, intercept, r_value, p_value, sem = linregress(southerndf[\"Lat\"],southerndf[\"Cloudiness (%)\"])\n",
    "plt.plot(southerndf[\"Lat\"], slope*southerndf[\"Lat\"]+intercept)\n",
    "plt.scatter(southerndf[\"Lat\"],southerndf[\"Cloudiness (%)\"])"
   ]
  },
  {
   "cell_type": "markdown",
   "metadata": {},
   "source": [
    "####  Northern Hemisphere - Wind Speed (mph) vs. Latitude Linear Regression"
   ]
  },
  {
   "cell_type": "code",
   "execution_count": 142,
   "metadata": {},
   "outputs": [
    {
     "data": {
      "text/plain": [
       "<matplotlib.collections.PathCollection at 0x294baea1888>"
      ]
     },
     "execution_count": 142,
     "metadata": {},
     "output_type": "execute_result"
    },
    {
     "data": {
      "image/png": "[encoded data removed]",
      "text/plain": [
       "<Figure size 432x288 with 1 Axes>"
      ]
     },
     "metadata": {
      "needs_background": "light"
     },
     "output_type": "display_data"
    }
   ],
   "source": [
    "slope, intercept, r_value, p_value, sem = linregress(northerndf[\"Lat\"],northerndf[\"Wind Speed (mph)\"])\n",
    "plt.plot(northerndf[\"Lat\"], slope*northerndf[\"Lat\"]+intercept)\n",
    "plt.scatter(northerndf[\"Lat\"],northerndf[\"Wind Speed (mph)\"])"
   ]
  },
  {
   "cell_type": "markdown",
   "metadata": {},
   "source": [
    "####  Southern Hemisphere - Wind Speed (mph) vs. Latitude Linear Regression"
   ]
  },
  {
   "cell_type": "code",
   "execution_count": 143,
   "metadata": {},
   "outputs": [
    {
     "data": {
      "text/plain": [
       "<matplotlib.collections.PathCollection at 0x294bcc76208>"
      ]
     },
     "execution_count": 143,
     "metadata": {},
     "output_type": "execute_result"
    },
    {
     "data": {
      "image/png": "[encoded data removed]",
      "text/plain": [
       "<Figure size 432x288 with 1 Axes>"
      ]
     },
     "metadata": {
      "needs_background": "light"
     },
     "output_type": "display_data"
    }
   ],
   "source": [
    "slope, intercept, r_value, p_value, sem = linregress(southerndf[\"Lat\"],southerndf[\"Wind Speed (mph)\"])\n",
    "plt.plot(southerndf[\"Lat\"], slope*southerndf[\"Lat\"]+intercept)\n",
    "plt.scatter(southerndf[\"Lat\"],southerndf[\"Wind Speed (mph)\"])"
   ]
  },
  {
   "cell_type": "code",
   "execution_count": null,
   "metadata": {},
   "outputs": [],
   "source": []
  }
 ],
 "metadata": {
  "anaconda-cloud": {},
  "kernel_info": {
   "name": "python3"
  },
  "kernelspec": {
   "display_name": "Python 3",
   "language": "python",
   "name": "python3"
  },
  "language_info": {
   "codemirror_mode": {
    "name": "ipython",
    "version": 3
   },
   "file_extension": ".py",
   "mimetype": "text/x-python",
   "name": "python",
   "nbconvert_exporter": "python",
   "pygments_lexer": "ipython3",
   "version": "3.7.4"
  },
  "latex_envs": {
   "LaTeX_envs_menu_present": true,
   "autoclose": false,
   "autocomplete": true,
   "bibliofile": "biblio.bib",
   "cite_by": "apalike",
   "current_citInitial": 1,
   "eqLabelWithNumbers": true,
   "eqNumInitial": 1,
   "hotkeys": {
    "equation": "Ctrl-E",
    "itemize": "Ctrl-I"
   },
   "labels_anchors": false,
   "latex_user_defs": false,
   "report_style_numbering": false,
   "user_envs_cfg": false
  },
  "nteract": {
   "version": "0.12.3"
  }
 },
 "nbformat": 4,
 "nbformat_minor": 2
}
